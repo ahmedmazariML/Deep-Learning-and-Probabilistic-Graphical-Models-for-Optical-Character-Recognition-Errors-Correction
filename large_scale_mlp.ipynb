{
 "metadata": {
  "name": "",
  "signature": "sha256:db9718b4d1baa2d1cd01c733e4ac4439a9f29bb1bd23a1f6410d0ea10da1f196"
 },
 "nbformat": 3,
 "nbformat_minor": 0,
 "worksheets": [
  {
   "cells": [
    {
     "cell_type": "code",
     "collapsed": false,
     "input": [
      "from __future__ import print_function\n",
      "from keras.models import Sequential\n",
      "from keras.layers import Dense\n",
      "import keras\n",
      "import numpy as np\n",
      "import h5py\n",
      "import pandas as pd"
     ],
     "language": "python",
     "metadata": {},
     "outputs": [
      {
       "output_type": "stream",
       "stream": "stderr",
       "text": [
        "Using TensorFlow backend.\n"
       ]
      }
     ],
     "prompt_number": 1
    },
    {
     "cell_type": "code",
     "collapsed": false,
     "input": [
      "h5f=h5py.File('/home/ahmed/internship/cnn_ocr/scale_train/concatenate/clean_data/csv/dataset.h5','r')"
     ],
     "language": "python",
     "metadata": {},
     "outputs": [],
     "prompt_number": 2
    },
    {
     "cell_type": "code",
     "collapsed": false,
     "input": [
      "h5f=h5py.File('/home/ahmed/internship/cnn_ocr/scale_train/concatenate/clean_data/csv/dataset.h5','r')\n",
      "data_pixels=h5f['dataset_1'][:]"
     ],
     "language": "python",
     "metadata": {},
     "outputs": [],
     "prompt_number": 3
    },
    {
     "cell_type": "code",
     "collapsed": false,
     "input": [
      "data_pixels.shape[1]"
     ],
     "language": "python",
     "metadata": {},
     "outputs": [
      {
       "metadata": {},
       "output_type": "pyout",
       "prompt_number": 68,
       "text": [
        "28800"
       ]
      }
     ],
     "prompt_number": 68
    },
    {
     "cell_type": "code",
     "collapsed": false,
     "input": [
      "\n",
      "classes_dataset2=pd.read_csv(\"/home/ahmed/internship/cnn_ocr/scale_train/concatenate/clean_data/csv/abby_labels.csv\")"
     ],
     "language": "python",
     "metadata": {},
     "outputs": [],
     "prompt_number": 8
    },
    {
     "cell_type": "code",
     "collapsed": false,
     "input": [
      "images_names=classes_dataset2['reference']"
     ],
     "language": "python",
     "metadata": {},
     "outputs": [],
     "prompt_number": 9
    },
    {
     "cell_type": "code",
     "collapsed": false,
     "input": [
      "classes_dataset2=classes_dataset2['abby_label']"
     ],
     "language": "python",
     "metadata": {},
     "outputs": [],
     "prompt_number": 11
    },
    {
     "cell_type": "code",
     "collapsed": false,
     "input": [
      "import sys\n",
      "reload(sys)\n",
      "sys.setdefaultencoding(\"utf-8\")\n",
      "from collections import Counter\n",
      "import numpy as np\n",
      "import matplotlib.pyplot as plt\n",
      "\n",
      "\n",
      "labels, values = zip(*Counter(classes_dataset2.astype('|S5')).items())\n",
      "print(\"labels \", labels)\n",
      "print(\"lvalues\", values)"
     ],
     "language": "python",
     "metadata": {},
     "outputs": [],
     "prompt_number": 12
    },
    {
     "cell_type": "code",
     "collapsed": false,
     "input": [
      "%pylab inline\n",
      "pylab.rcParams['figure.figsize'] = (30, 10)\n",
      "indexes = np.arange(len(labels))\n",
      "width = 0.5\n",
      "\n",
      "plt.bar(indexes, values, width)\n",
      "plt.xticks(indexes + width * 0.5, labels)\n",
      "#plt.figure(figsize=(5000,5000))\n",
      "plt.show()"
     ],
     "language": "python",
     "metadata": {},
     "outputs": [
      {
       "metadata": {},
       "output_type": "display_data",
       "png": "[encoded data removed]",
       "text": [
        "<matplotlib.figure.Figure at 0x7f0b5fc50e10>"
       ]
      }
     ],
     "prompt_number": 13
    },
    {
     "cell_type": "code",
     "collapsed": false,
     "input": [
      "\n",
      "from sklearn.preprocessing import LabelBinarizer\n",
      "encoder=LabelBinarizer()\n",
      "classes_dataset = encoder.fit_transform(classes_dataset2.astype('|S5'))"
     ],
     "language": "python",
     "metadata": {},
     "outputs": [],
     "prompt_number": 14
    },
    {
     "cell_type": "code",
     "collapsed": false,
     "input": [
      "def shuffle_data(x,y,z):\n",
      "    idx = np.random.permutation(len(x))\n",
      "    x_data,y_labels,name_img = x[idx], y[idx], z[idx]\n",
      "    return x_data,y_labels, name_img"
     ],
     "language": "python",
     "metadata": {},
     "outputs": [],
     "prompt_number": 15
    },
    {
     "cell_type": "code",
     "collapsed": false,
     "input": [
      "data,labels,name_img=shuffle_data(data_pixels,classes_dataset,images_names)"
     ],
     "language": "python",
     "metadata": {},
     "outputs": [],
     "prompt_number": 16
    },
    {
     "cell_type": "code",
     "collapsed": false,
     "input": [
      "from sklearn.cross_validation import train_test_split\n",
      "x_train, x_test, y_train, y_test, name_images_train, name_images_test=train_test_split(data,labels, name_img, \n",
      "                                                     test_size=0.3, \n",
      "                                                     random_state=42)\n",
      "print(x_train.shape)\n",
      "print(x_test.shape)\n",
      "print(y_train.shape)\n",
      "print(y_test.shape)\n",
      "print(name_images_train.shape)\n",
      "print(name_images_test.shape)\n",
      "\n",
      "print(name_images_test[0:10])"
     ],
     "language": "python",
     "metadata": {},
     "outputs": [],
     "prompt_number": 53
    },
    {
     "cell_type": "code",
     "collapsed": false,
     "input": [
      "name_images_train[7]"
     ],
     "language": "python",
     "metadata": {},
     "outputs": [
      {
       "metadata": {},
       "output_type": "pyout",
       "prompt_number": 59,
       "text": [
        "'char_313_(27, 18, 3)_BOUYGUES_XML_0_1841822399_0001_1457_1475_430_457.png'"
       ]
      }
     ],
     "prompt_number": 59
    },
    {
     "cell_type": "code",
     "collapsed": false,
     "input": [
      "y_test_reconstructed=encoder.inverse_transform(y_test)\n",
      "y_train_reconstructed=encoder.inverse_transform(y_train)"
     ],
     "language": "python",
     "metadata": {},
     "outputs": [],
     "prompt_number": 18
    },
    {
     "cell_type": "code",
     "collapsed": false,
     "input": [
      "model = Sequential()\n",
      "model.add(Dense(300, input_dim=data_pixels.shape[1], activation='relu'))\n",
      "model.add(Dense(75, activation='relu'))\n",
      "model.add(Dense(len(labels), activation='softmax'))"
     ],
     "language": "python",
     "metadata": {},
     "outputs": [],
     "prompt_number": 25
    },
    {
     "cell_type": "code",
     "collapsed": false,
     "input": [
      "model.compile(loss='categorical_crossentropy', optimizer='adam', metrics=['accuracy'])"
     ],
     "language": "python",
     "metadata": {},
     "outputs": [],
     "prompt_number": 26
    },
    {
     "cell_type": "code",
     "collapsed": false,
     "input": [
      "model.fit(x_train,y_train, epochs=3, batch_size=128)"
     ],
     "language": "python",
     "metadata": {},
     "outputs": [
      {
       "metadata": {},
       "output_type": "pyout",
       "prompt_number": 27,
       "text": [
        "<keras.callbacks.History at 0x7f0b34246e90>"
       ]
      }
     ],
     "prompt_number": 27
    },
    {
     "cell_type": "code",
     "collapsed": false,
     "input": [
      "scores = model.evaluate(x_train, y_train)\n",
      "print(\"\\n%s: %.2f%%\" % (model.metrics_names[1], scores[1]*100))\n",
      "scores"
     ],
     "language": "python",
     "metadata": {},
     "outputs": [
      {
       "metadata": {},
       "output_type": "pyout",
       "prompt_number": 30,
       "text": [
        "[15.315205849185377, 0.048319327731092439]"
       ]
      }
     ],
     "prompt_number": 30
    },
    {
     "cell_type": "code",
     "collapsed": false,
     "input": [
      "scores2 = model.evaluate(x_test, y_test)\n",
      "print(\"\\n%s: %.2f%%\" % (model.metrics_names[1], scores2[1]*100))\n",
      "scores2"
     ],
     "language": "python",
     "metadata": {},
     "outputs": [
      {
       "metadata": {},
       "output_type": "pyout",
       "prompt_number": 31,
       "text": [
        "[15.295450584561218, 0.048611111111111112]"
       ]
      }
     ],
     "prompt_number": 31
    },
    {
     "cell_type": "code",
     "collapsed": false,
     "input": [
      "predictions = model.predict(x_test)"
     ],
     "language": "python",
     "metadata": {},
     "outputs": [],
     "prompt_number": 32
    },
    {
     "cell_type": "code",
     "collapsed": false,
     "input": [
      "print(\"\\n%s:\" % (model.metrics_names[1]))\n",
      "print(100 * predictions)"
     ],
     "language": "python",
     "metadata": {},
     "outputs": [],
     "prompt_number": 33
    },
    {
     "cell_type": "code",
     "collapsed": false,
     "input": [
      "%matplotlib inline\n",
      "import matplotlib.pyplot as plt\n",
      "plt.hist(predictions.max(axis=1),bins=100)\n",
      "plt.show()"
     ],
     "language": "python",
     "metadata": {},
     "outputs": [
      {
       "metadata": {},
       "output_type": "display_data",
       "png": "[encoded data removed]",
       "text": [
        "<matplotlib.figure.Figure at 0x7f0b5fc50f10>"
       ]
      }
     ],
     "prompt_number": 34
    },
    {
     "cell_type": "code",
     "collapsed": false,
     "input": [
      "%matplotlib inline\n",
      "import matplotlib.pyplot as plt\n",
      "plt.hist(predictions[5],bins=10)\n",
      "plt.show()"
     ],
     "language": "python",
     "metadata": {},
     "outputs": [
      {
       "metadata": {},
       "output_type": "display_data",
       "png": "[encoded data removed]",
       "text": [
        "<matplotlib.figure.Figure at 0x7f0b5f572190>"
       ]
      }
     ],
     "prompt_number": 35
    },
    {
     "cell_type": "code",
     "collapsed": false,
     "input": [
      "predicted_char=encoder.inverse_transform(predictions)"
     ],
     "language": "python",
     "metadata": {},
     "outputs": [],
     "prompt_number": 36
    },
    {
     "cell_type": "code",
     "collapsed": false,
     "input": [
      "predicted_char[5]"
     ],
     "language": "python",
     "metadata": {},
     "outputs": [
      {
       "metadata": {},
       "output_type": "pyout",
       "prompt_number": 37,
       "text": [
        "'5'"
       ]
      }
     ],
     "prompt_number": 37
    },
    {
     "cell_type": "code",
     "collapsed": false,
     "input": [
      "y_test_reconstructed[5]"
     ],
     "language": "python",
     "metadata": {},
     "outputs": [
      {
       "metadata": {},
       "output_type": "pyout",
       "prompt_number": 43,
       "text": [
        "'A'"
       ]
      }
     ],
     "prompt_number": 43
    },
    {
     "cell_type": "code",
     "collapsed": false,
     "input": [
      "name_images_test[210]"
     ],
     "language": "python",
     "metadata": {},
     "outputs": [
      {
       "metadata": {},
       "output_type": "pyout",
       "prompt_number": 66,
       "text": [
        "'char_1778_(43, 41, 3)_BOUYGUES_XML_0_1841822399_0001_1194_1235_2895_2938.png'"
       ]
      }
     ],
     "prompt_number": 66
    },
    {
     "cell_type": "code",
     "collapsed": false,
     "input": [],
     "language": "python",
     "metadata": {},
     "outputs": []
    }
   ],
   "metadata": {}
  }
 ]
}