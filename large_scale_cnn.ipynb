{
 "metadata": {
  "name": "",
  "signature": "sha256:42e93f12f393fbe0c983237afaf86c4c7c55412fc87dd140912c4643a99acbf2"
 },
 "nbformat": 3,
 "nbformat_minor": 0,
 "worksheets": [
  {
   "cells": [
    {
     "cell_type": "code",
     "collapsed": false,
     "input": [
      "from __future__ import print_function\n",
      "from keras.models import Sequential\n",
      "%matplotlib inline\n",
      "\n",
      "\n",
      "from keras.layers import Dense, Activation, Dropout, Flatten, MaxPooling2D\n",
      "from keras.layers.convolutional import Conv2D \n",
      "from keras.utils import np_utils\n",
      "from keras import backend as K\n",
      "\n",
      "from distutils.version import LooseVersion as LV\n",
      "from keras import __version__\n",
      "\n",
      "from IPython.display import SVG\n",
      "from keras.utils.vis_utils import model_to_dot\n",
      "\n",
      "import numpy as np\n",
      "import matplotlib.pyplot as plt\n",
      "import seaborn as sns\n",
      "import pandas as pd\n",
      "\n",
      "print('Using Keras version:', __version__, 'backend:', K.backend())\n",
      "assert(LV(__version__) >= LV(\"2.0.0\"))"
     ],
     "language": "python",
     "metadata": {},
     "outputs": [
      {
       "output_type": "stream",
       "stream": "stdout",
       "text": [
        "Using Keras version: 2.0.2 backend: tensorflow\n"
       ]
      }
     ],
     "prompt_number": 4
    },
    {
     "cell_type": "code",
     "collapsed": false,
     "input": [
      "import h5py\n",
      "h5f=h5py.File('/home/ahmed/internship/cnn_ocr/scale_train/concatenate/clean_data/csv/dataset.h5','r')\n",
      "data_pixels=h5f['dataset_1'][:]\n",
      "data_pixels.shape"
     ],
     "language": "python",
     "metadata": {},
     "outputs": [
      {
       "metadata": {},
       "output_type": "pyout",
       "prompt_number": 5,
       "text": [
        "(8160, 28800)"
       ]
      }
     ],
     "prompt_number": 5
    },
    {
     "cell_type": "code",
     "collapsed": false,
     "input": [
      "classes_dataset2=pd.read_csv(\"/home/ahmed/internship/cnn_ocr/scale_train/concatenate/clean_data/csv/abby_labels.csv\")\n",
      "images_names=classes_dataset2['reference']\n",
      "classes_dataset2=classes_dataset2['abby_label']"
     ],
     "language": "python",
     "metadata": {},
     "outputs": [],
     "prompt_number": 6
    },
    {
     "cell_type": "code",
     "collapsed": false,
     "input": [
      "np.random.seed(7)\n",
      "batch_size = 128\n",
      "epochs = 12\n",
      "\n",
      "# input image dimensions\n",
      "img_rows, img_cols = 96, 100"
     ],
     "language": "python",
     "metadata": {},
     "outputs": [],
     "prompt_number": 7
    },
    {
     "cell_type": "code",
     "collapsed": false,
     "input": [
      "\n",
      "npa2= classes_dataset2\n",
      "#npa2= x\n",
      "g=npa2.groupby()\n",
      "# unique characters\n",
      "y=g[1].nunique()\n",
      "# number of classes\n",
      "\n",
      "number_classes=len(y)# +1 for class AUTRE\n",
      "\n",
      "# object of classes 1-66\n",
      "classes=g[1].unique()\n",
      "#df_classes = pd.DataFrame({'classes':classes})\n",
      "#df_classes.to_csv(\"/home/ahmed/internship/cnn_ocr/scale_train/concatenate/clean_data/classes_large_data.csv\", header=False, encoding='utf-8', mode='a')"
     ],
     "language": "python",
     "metadata": {},
     "outputs": [],
     "prompt_number": 51
    },
    {
     "cell_type": "code",
     "collapsed": false,
     "input": [
      "import sys\n",
      "reload(sys)\n",
      "sys.setdefaultencoding(\"utf-8\")\n",
      "from collections import Counter\n",
      "import numpy as np\n",
      "import matplotlib.pyplot as plt\n",
      "\n",
      "\n",
      "labels, values = zip(*Counter(classes_dataset2.astype('|S5')).items())\n",
      "print(\"labels \", labels)\n",
      "print(\"lvalues\", values)"
     ],
     "language": "python",
     "metadata": {},
     "outputs": [],
     "prompt_number": 8
    },
    {
     "cell_type": "code",
     "collapsed": false,
     "input": [],
     "language": "python",
     "metadata": {},
     "outputs": [
      {
       "metadata": {},
       "output_type": "pyout",
       "prompt_number": 55,
       "text": [
        "8160"
       ]
      }
     ],
     "prompt_number": 55
    },
    {
     "cell_type": "code",
     "collapsed": false,
     "input": [
      "%pylab inline\n",
      "pylab.rcParams['figure.figsize'] = (30, 10)\n",
      "indexes = np.arange(len(labels))\n",
      "width = 0.5\n",
      "\n",
      "plt.bar(indexes, values, width)\n",
      "plt.xticks(indexes + width * 0.5, labels)\n",
      "#plt.figure(figsize=(5000,5000))\n",
      "plt.show()"
     ],
     "language": "python",
     "metadata": {},
     "outputs": [
      {
       "metadata": {},
       "output_type": "display_data",
       "png": "[encoded data removed]",
       "text": [
        "<matplotlib.figure.Figure at 0x7f77c530a410>"
       ]
      }
     ],
     "prompt_number": 9
    },
    {
     "cell_type": "code",
     "collapsed": false,
     "input": [
      "\n",
      "from sklearn.preprocessing import LabelBinarizer\n",
      "encoder=LabelBinarizer()\n",
      "classes_dataset = encoder.fit_transform(classes_dataset2.astype('|S5'))"
     ],
     "language": "python",
     "metadata": {},
     "outputs": [],
     "prompt_number": 10
    },
    {
     "cell_type": "code",
     "collapsed": false,
     "input": [
      "def shuffle_data(x,y,z):\n",
      "    idx = np.random.permutation(len(x))\n",
      "    x_data,y_labels,name_img = x[idx], y[idx], z[idx]\n",
      "    return x_data,y_labels, name_img"
     ],
     "language": "python",
     "metadata": {},
     "outputs": [],
     "prompt_number": 11
    },
    {
     "cell_type": "code",
     "collapsed": false,
     "input": [
      "data,labels,name_img=shuffle_data(data_pixels,classes_dataset,images_names)"
     ],
     "language": "python",
     "metadata": {},
     "outputs": [],
     "prompt_number": 12
    },
    {
     "cell_type": "code",
     "collapsed": false,
     "input": [
      "from sklearn.cross_validation import train_test_split\n",
      "x_train, x_test, y_train, y_test, name_images_train, name_images_test=train_test_split(data,labels, name_img, \n",
      "                                                     test_size=0.3, \n",
      "                                                     random_state=42)\n",
      "print(x_train.shape)\n",
      "print(x_test.shape)\n",
      "print(y_train.shape)\n",
      "print(y_test.shape)\n",
      "print(name_images_train.shape)\n",
      "print(name_images_test.shape)\n",
      "\n",
      "print(name_images_test[0:10])"
     ],
     "language": "python",
     "metadata": {},
     "outputs": [],
     "prompt_number": 21
    },
    {
     "cell_type": "code",
     "collapsed": false,
     "input": [
      "y_test_reconstructed=encoder.inverse_transform(y_test)\n",
      "y_train_reconstructed=encoder.inverse_transform(y_train)"
     ],
     "language": "python",
     "metadata": {},
     "outputs": [],
     "prompt_number": 22
    },
    {
     "cell_type": "code",
     "collapsed": false,
     "input": [
      "x_train.shape"
     ],
     "language": "python",
     "metadata": {},
     "outputs": [
      {
       "metadata": {},
       "output_type": "pyout",
       "prompt_number": 23,
       "text": [
        "(5712, 28800)"
       ]
      }
     ],
     "prompt_number": 23
    },
    {
     "cell_type": "code",
     "collapsed": false,
     "input": [
      "#img = np.reshape(x, (32, 32)) \n",
      "x_train=x_train.reshape(5712,96,100,3)\n",
      "x_test=x_test.reshape(2448,96,100,3)\n",
      "print(x_train.shape)\n",
      "print(x_test.shape)\n",
      "print(y_train.shape)\n",
      "print(y_test.shape)"
     ],
     "language": "python",
     "metadata": {},
     "outputs": [],
     "prompt_number": 24
    },
    {
     "cell_type": "code",
     "collapsed": false,
     "input": [
      "x_test=x_test[:,:,:,0]\n",
      "x_train=x_train[:,:,:,0]"
     ],
     "language": "python",
     "metadata": {},
     "outputs": [],
     "prompt_number": 32
    },
    {
     "cell_type": "code",
     "collapsed": false,
     "input": [
      "\n",
      "# input image dimensions\n",
      "img_rows, img_cols = 96, 100\n",
      "\n",
      "if K.image_dim_ordering() == 'th':\n",
      "    x_train = x_train.reshape(x_train.shape[0], 1, img_rows, img_cols)\n",
      "    x_test = x_test.reshape(x_test.shape[0], 1, img_rows, img_cols)\n",
      "    input_shape = (1, img_rows, img_cols)\n",
      "else:\n",
      "    x_train = x_train.reshape(x_train.shape[0], img_rows, img_cols, 1)\n",
      "    x_test = x_test.reshape(x_test.shape[0], img_rows, img_cols, 1)\n",
      "    input_shape = (img_rows, img_cols, 1)\n",
      "    \n",
      "print('X_train:', x_train.shape)"
     ],
     "language": "python",
     "metadata": {},
     "outputs": [],
     "prompt_number": 41
    },
    {
     "cell_type": "code",
     "collapsed": false,
     "input": [
      "nb_classes"
     ],
     "language": "python",
     "metadata": {},
     "outputs": [
      {
       "metadata": {},
       "output_type": "pyout",
       "prompt_number": 45,
       "text": [
        "8160"
       ]
      }
     ],
     "prompt_number": 45
    },
    {
     "cell_type": "code",
     "collapsed": false,
     "input": [
      "nb_classes=len(values)\n",
      "\n",
      "# number of convolutional filters to use\n",
      "nb_filters = 32\n",
      "# convolution kernel size\n",
      "kernel_size = (3, 3)\n",
      "# size of pooling area for max pooling\n",
      "pool_size = (2, 2)\n",
      "\n",
      "model = Sequential()\n",
      "\n",
      "model.add(Conv2D(nb_filters, kernel_size,\n",
      "                 padding='valid',\n",
      "                 input_shape=input_shape))\n",
      "model.add(Activation('relu'))\n",
      "model.add(Conv2D(nb_filters, kernel_size))\n",
      "model.add(Activation('relu'))\n",
      "model.add(MaxPooling2D(pool_size=pool_size))\n",
      "model.add(Dropout(0.25))\n",
      "\n",
      "model.add(Flatten())\n",
      "model.add(Dense(units=128))\n",
      "model.add(Activation('relu'))\n",
      "model.add(Dropout(0.5))\n",
      "model.add(Dense(units=nb_classes))\n",
      "model.add(Activation('softmax'))\n",
      "\n",
      "model.compile(loss='categorical_crossentropy',\n",
      "              optimizer='adam',\n",
      "              metrics=['accuracy'])\n",
      "print(model.summary())"
     ],
     "language": "python",
     "metadata": {},
     "outputs": [],
     "prompt_number": 56
    },
    {
     "cell_type": "code",
     "collapsed": false,
     "input": [
      "SVG(model_to_dot(model, show_shapes=True).create(prog='dot', format='svg'))"
     ],
     "language": "python",
     "metadata": {},
     "outputs": [
      {
       "metadata": {},
       "output_type": "pyout",
       "prompt_number": 57,
       "svg": [
        "<svg height=\"1051pt\" viewBox=\"0.00 0.00 388.00 1051.00\" width=\"388pt\" xmlns=\"http://www.w3.org/2000/svg\" xmlns:xlink=\"http://www.w3.org/1999/xlink\">\n",
        "<g class=\"graph\" id=\"graph0\" transform=\"scale(1 1) rotate(0) translate(4 1047)\">\n",
        "<title>G</title>\n",
        "<polygon fill=\"white\" points=\"-4,4 -4,-1047 384,-1047 384,4 -4,4\" stroke=\"none\"/>\n",
        "<!-- 140152375675344 -->\n",
        "<g class=\"node\" id=\"node1\"><title>140152375675344</title>\n",
        "<polygon fill=\"none\" points=\"17.5,-996.5 17.5,-1042.5 362.5,-1042.5 362.5,-996.5 17.5,-996.5\" stroke=\"black\"/>\n",
        "<text font-family=\"Times,serif\" font-size=\"14.00\" text-anchor=\"middle\" x=\"103.5\" y=\"-1015.8\">conv2d_5_input: InputLayer</text>\n",
        "<polyline fill=\"none\" points=\"189.5,-996.5 189.5,-1042.5 \" stroke=\"black\"/>\n",
        "<text font-family=\"Times,serif\" font-size=\"14.00\" text-anchor=\"middle\" x=\"217\" y=\"-1027.3\">input:</text>\n",
        "<polyline fill=\"none\" points=\"189.5,-1019.5 244.5,-1019.5 \" stroke=\"black\"/>\n",
        "<text font-family=\"Times,serif\" font-size=\"14.00\" text-anchor=\"middle\" x=\"217\" y=\"-1004.3\">output:</text>\n",
        "<polyline fill=\"none\" points=\"244.5,-996.5 244.5,-1042.5 \" stroke=\"black\"/>\n",
        "<text font-family=\"Times,serif\" font-size=\"14.00\" text-anchor=\"middle\" x=\"303.5\" y=\"-1027.3\">(None, 96, 100, 1)</text>\n",
        "<polyline fill=\"none\" points=\"244.5,-1019.5 362.5,-1019.5 \" stroke=\"black\"/>\n",
        "<text font-family=\"Times,serif\" font-size=\"14.00\" text-anchor=\"middle\" x=\"303.5\" y=\"-1004.3\">(None, 96, 100, 1)</text>\n",
        "</g>\n",
        "<!-- 140152375675024 -->\n",
        "<g class=\"node\" id=\"node2\"><title>140152375675024</title>\n",
        "<polygon fill=\"none\" points=\"42,-913.5 42,-959.5 338,-959.5 338,-913.5 42,-913.5\" stroke=\"black\"/>\n",
        "<text font-family=\"Times,serif\" font-size=\"14.00\" text-anchor=\"middle\" x=\"103.5\" y=\"-932.8\">conv2d_5: Conv2D</text>\n",
        "<polyline fill=\"none\" points=\"165,-913.5 165,-959.5 \" stroke=\"black\"/>\n",
        "<text font-family=\"Times,serif\" font-size=\"14.00\" text-anchor=\"middle\" x=\"192.5\" y=\"-944.3\">input:</text>\n",
        "<polyline fill=\"none\" points=\"165,-936.5 220,-936.5 \" stroke=\"black\"/>\n",
        "<text font-family=\"Times,serif\" font-size=\"14.00\" text-anchor=\"middle\" x=\"192.5\" y=\"-921.3\">output:</text>\n",
        "<polyline fill=\"none\" points=\"220,-913.5 220,-959.5 \" stroke=\"black\"/>\n",
        "<text font-family=\"Times,serif\" font-size=\"14.00\" text-anchor=\"middle\" x=\"279\" y=\"-944.3\">(None, 96, 100, 1)</text>\n",
        "<polyline fill=\"none\" points=\"220,-936.5 338,-936.5 \" stroke=\"black\"/>\n",
        "<text font-family=\"Times,serif\" font-size=\"14.00\" text-anchor=\"middle\" x=\"279\" y=\"-921.3\">(None, 94, 98, 32)</text>\n",
        "</g>\n",
        "<!-- 140152375675344&#45;&gt;140152375675024 -->\n",
        "<g class=\"edge\" id=\"edge1\"><title>140152375675344-&gt;140152375675024</title>\n",
        "<path d=\"M190,-996.366C190,-988.152 190,-978.658 190,-969.725\" fill=\"none\" stroke=\"black\"/>\n",
        "<polygon fill=\"black\" points=\"193.5,-969.607 190,-959.607 186.5,-969.607 193.5,-969.607\" stroke=\"black\"/>\n",
        "</g>\n",
        "<!-- 140152375618704 -->\n",
        "<g class=\"node\" id=\"node3\"><title>140152375618704</title>\n",
        "<polygon fill=\"none\" points=\"29.5,-830.5 29.5,-876.5 350.5,-876.5 350.5,-830.5 29.5,-830.5\" stroke=\"black\"/>\n",
        "<text font-family=\"Times,serif\" font-size=\"14.00\" text-anchor=\"middle\" x=\"103.5\" y=\"-849.8\">activation_9: Activation</text>\n",
        "<polyline fill=\"none\" points=\"177.5,-830.5 177.5,-876.5 \" stroke=\"black\"/>\n",
        "<text font-family=\"Times,serif\" font-size=\"14.00\" text-anchor=\"middle\" x=\"205\" y=\"-861.3\">input:</text>\n",
        "<polyline fill=\"none\" points=\"177.5,-853.5 232.5,-853.5 \" stroke=\"black\"/>\n",
        "<text font-family=\"Times,serif\" font-size=\"14.00\" text-anchor=\"middle\" x=\"205\" y=\"-838.3\">output:</text>\n",
        "<polyline fill=\"none\" points=\"232.5,-830.5 232.5,-876.5 \" stroke=\"black\"/>\n",
        "<text font-family=\"Times,serif\" font-size=\"14.00\" text-anchor=\"middle\" x=\"291.5\" y=\"-861.3\">(None, 94, 98, 32)</text>\n",
        "<polyline fill=\"none\" points=\"232.5,-853.5 350.5,-853.5 \" stroke=\"black\"/>\n",
        "<text font-family=\"Times,serif\" font-size=\"14.00\" text-anchor=\"middle\" x=\"291.5\" y=\"-838.3\">(None, 94, 98, 32)</text>\n",
        "</g>\n",
        "<!-- 140152375675024&#45;&gt;140152375618704 -->\n",
        "<g class=\"edge\" id=\"edge2\"><title>140152375675024-&gt;140152375618704</title>\n",
        "<path d=\"M190,-913.366C190,-905.152 190,-895.658 190,-886.725\" fill=\"none\" stroke=\"black\"/>\n",
        "<polygon fill=\"black\" points=\"193.5,-886.607 190,-876.607 186.5,-886.607 193.5,-886.607\" stroke=\"black\"/>\n",
        "</g>\n",
        "<!-- 140152375618640 -->\n",
        "<g class=\"node\" id=\"node4\"><title>140152375618640</title>\n",
        "<polygon fill=\"none\" points=\"42,-747.5 42,-793.5 338,-793.5 338,-747.5 42,-747.5\" stroke=\"black\"/>\n",
        "<text font-family=\"Times,serif\" font-size=\"14.00\" text-anchor=\"middle\" x=\"103.5\" y=\"-766.8\">conv2d_6: Conv2D</text>\n",
        "<polyline fill=\"none\" points=\"165,-747.5 165,-793.5 \" stroke=\"black\"/>\n",
        "<text font-family=\"Times,serif\" font-size=\"14.00\" text-anchor=\"middle\" x=\"192.5\" y=\"-778.3\">input:</text>\n",
        "<polyline fill=\"none\" points=\"165,-770.5 220,-770.5 \" stroke=\"black\"/>\n",
        "<text font-family=\"Times,serif\" font-size=\"14.00\" text-anchor=\"middle\" x=\"192.5\" y=\"-755.3\">output:</text>\n",
        "<polyline fill=\"none\" points=\"220,-747.5 220,-793.5 \" stroke=\"black\"/>\n",
        "<text font-family=\"Times,serif\" font-size=\"14.00\" text-anchor=\"middle\" x=\"279\" y=\"-778.3\">(None, 94, 98, 32)</text>\n",
        "<polyline fill=\"none\" points=\"220,-770.5 338,-770.5 \" stroke=\"black\"/>\n",
        "<text font-family=\"Times,serif\" font-size=\"14.00\" text-anchor=\"middle\" x=\"279\" y=\"-755.3\">(None, 92, 96, 32)</text>\n",
        "</g>\n",
        "<!-- 140152375618704&#45;&gt;140152375618640 -->\n",
        "<g class=\"edge\" id=\"edge3\"><title>140152375618704-&gt;140152375618640</title>\n",
        "<path d=\"M190,-830.366C190,-822.152 190,-812.658 190,-803.725\" fill=\"none\" stroke=\"black\"/>\n",
        "<polygon fill=\"black\" points=\"193.5,-803.607 190,-793.607 186.5,-803.607 193.5,-803.607\" stroke=\"black\"/>\n",
        "</g>\n",
        "<!-- 140152375675408 -->\n",
        "<g class=\"node\" id=\"node5\"><title>140152375675408</title>\n",
        "<polygon fill=\"none\" points=\"26,-664.5 26,-710.5 354,-710.5 354,-664.5 26,-664.5\" stroke=\"black\"/>\n",
        "<text font-family=\"Times,serif\" font-size=\"14.00\" text-anchor=\"middle\" x=\"103.5\" y=\"-683.8\">activation_10: Activation</text>\n",
        "<polyline fill=\"none\" points=\"181,-664.5 181,-710.5 \" stroke=\"black\"/>\n",
        "<text font-family=\"Times,serif\" font-size=\"14.00\" text-anchor=\"middle\" x=\"208.5\" y=\"-695.3\">input:</text>\n",
        "<polyline fill=\"none\" points=\"181,-687.5 236,-687.5 \" stroke=\"black\"/>\n",
        "<text font-family=\"Times,serif\" font-size=\"14.00\" text-anchor=\"middle\" x=\"208.5\" y=\"-672.3\">output:</text>\n",
        "<polyline fill=\"none\" points=\"236,-664.5 236,-710.5 \" stroke=\"black\"/>\n",
        "<text font-family=\"Times,serif\" font-size=\"14.00\" text-anchor=\"middle\" x=\"295\" y=\"-695.3\">(None, 92, 96, 32)</text>\n",
        "<polyline fill=\"none\" points=\"236,-687.5 354,-687.5 \" stroke=\"black\"/>\n",
        "<text font-family=\"Times,serif\" font-size=\"14.00\" text-anchor=\"middle\" x=\"295\" y=\"-672.3\">(None, 92, 96, 32)</text>\n",
        "</g>\n",
        "<!-- 140152375618640&#45;&gt;140152375675408 -->\n",
        "<g class=\"edge\" id=\"edge4\"><title>140152375618640-&gt;140152375675408</title>\n",
        "<path d=\"M190,-747.366C190,-739.152 190,-729.658 190,-720.725\" fill=\"none\" stroke=\"black\"/>\n",
        "<polygon fill=\"black\" points=\"193.5,-720.607 190,-710.607 186.5,-720.607 193.5,-720.607\" stroke=\"black\"/>\n",
        "</g>\n",
        "<!-- 140152375224912 -->\n",
        "<g class=\"node\" id=\"node6\"><title>140152375224912</title>\n",
        "<polygon fill=\"none\" points=\"0,-581.5 0,-627.5 380,-627.5 380,-581.5 0,-581.5\" stroke=\"black\"/>\n",
        "<text font-family=\"Times,serif\" font-size=\"14.00\" text-anchor=\"middle\" x=\"103.5\" y=\"-600.8\">max_pooling2d_3: MaxPooling2D</text>\n",
        "<polyline fill=\"none\" points=\"207,-581.5 207,-627.5 \" stroke=\"black\"/>\n",
        "<text font-family=\"Times,serif\" font-size=\"14.00\" text-anchor=\"middle\" x=\"234.5\" y=\"-612.3\">input:</text>\n",
        "<polyline fill=\"none\" points=\"207,-604.5 262,-604.5 \" stroke=\"black\"/>\n",
        "<text font-family=\"Times,serif\" font-size=\"14.00\" text-anchor=\"middle\" x=\"234.5\" y=\"-589.3\">output:</text>\n",
        "<polyline fill=\"none\" points=\"262,-581.5 262,-627.5 \" stroke=\"black\"/>\n",
        "<text font-family=\"Times,serif\" font-size=\"14.00\" text-anchor=\"middle\" x=\"321\" y=\"-612.3\">(None, 92, 96, 32)</text>\n",
        "<polyline fill=\"none\" points=\"262,-604.5 380,-604.5 \" stroke=\"black\"/>\n",
        "<text font-family=\"Times,serif\" font-size=\"14.00\" text-anchor=\"middle\" x=\"321\" y=\"-589.3\">(None, 46, 48, 32)</text>\n",
        "</g>\n",
        "<!-- 140152375675408&#45;&gt;140152375224912 -->\n",
        "<g class=\"edge\" id=\"edge5\"><title>140152375675408-&gt;140152375224912</title>\n",
        "<path d=\"M190,-664.366C190,-656.152 190,-646.658 190,-637.725\" fill=\"none\" stroke=\"black\"/>\n",
        "<polygon fill=\"black\" points=\"193.5,-637.607 190,-627.607 186.5,-637.607 193.5,-637.607\" stroke=\"black\"/>\n",
        "</g>\n",
        "<!-- 140152375675152 -->\n",
        "<g class=\"node\" id=\"node7\"><title>140152375675152</title>\n",
        "<polygon fill=\"none\" points=\"41,-498.5 41,-544.5 339,-544.5 339,-498.5 41,-498.5\" stroke=\"black\"/>\n",
        "<text font-family=\"Times,serif\" font-size=\"14.00\" text-anchor=\"middle\" x=\"103.5\" y=\"-517.8\">dropout_5: Dropout</text>\n",
        "<polyline fill=\"none\" points=\"166,-498.5 166,-544.5 \" stroke=\"black\"/>\n",
        "<text font-family=\"Times,serif\" font-size=\"14.00\" text-anchor=\"middle\" x=\"193.5\" y=\"-529.3\">input:</text>\n",
        "<polyline fill=\"none\" points=\"166,-521.5 221,-521.5 \" stroke=\"black\"/>\n",
        "<text font-family=\"Times,serif\" font-size=\"14.00\" text-anchor=\"middle\" x=\"193.5\" y=\"-506.3\">output:</text>\n",
        "<polyline fill=\"none\" points=\"221,-498.5 221,-544.5 \" stroke=\"black\"/>\n",
        "<text font-family=\"Times,serif\" font-size=\"14.00\" text-anchor=\"middle\" x=\"280\" y=\"-529.3\">(None, 46, 48, 32)</text>\n",
        "<polyline fill=\"none\" points=\"221,-521.5 339,-521.5 \" stroke=\"black\"/>\n",
        "<text font-family=\"Times,serif\" font-size=\"14.00\" text-anchor=\"middle\" x=\"280\" y=\"-506.3\">(None, 46, 48, 32)</text>\n",
        "</g>\n",
        "<!-- 140152375224912&#45;&gt;140152375675152 -->\n",
        "<g class=\"edge\" id=\"edge6\"><title>140152375224912-&gt;140152375675152</title>\n",
        "<path d=\"M190,-581.366C190,-573.152 190,-563.658 190,-554.725\" fill=\"none\" stroke=\"black\"/>\n",
        "<polygon fill=\"black\" points=\"193.5,-554.607 190,-544.607 186.5,-554.607 193.5,-554.607\" stroke=\"black\"/>\n",
        "</g>\n",
        "<!-- 140152375011088 -->\n",
        "<g class=\"node\" id=\"node8\"><title>140152375011088</title>\n",
        "<polygon fill=\"none\" points=\"48.5,-415.5 48.5,-461.5 331.5,-461.5 331.5,-415.5 48.5,-415.5\" stroke=\"black\"/>\n",
        "<text font-family=\"Times,serif\" font-size=\"14.00\" text-anchor=\"middle\" x=\"103.5\" y=\"-434.8\">flatten_3: Flatten</text>\n",
        "<polyline fill=\"none\" points=\"158.5,-415.5 158.5,-461.5 \" stroke=\"black\"/>\n",
        "<text font-family=\"Times,serif\" font-size=\"14.00\" text-anchor=\"middle\" x=\"186\" y=\"-446.3\">input:</text>\n",
        "<polyline fill=\"none\" points=\"158.5,-438.5 213.5,-438.5 \" stroke=\"black\"/>\n",
        "<text font-family=\"Times,serif\" font-size=\"14.00\" text-anchor=\"middle\" x=\"186\" y=\"-423.3\">output:</text>\n",
        "<polyline fill=\"none\" points=\"213.5,-415.5 213.5,-461.5 \" stroke=\"black\"/>\n",
        "<text font-family=\"Times,serif\" font-size=\"14.00\" text-anchor=\"middle\" x=\"272.5\" y=\"-446.3\">(None, 46, 48, 32)</text>\n",
        "<polyline fill=\"none\" points=\"213.5,-438.5 331.5,-438.5 \" stroke=\"black\"/>\n",
        "<text font-family=\"Times,serif\" font-size=\"14.00\" text-anchor=\"middle\" x=\"272.5\" y=\"-423.3\">(None, 70656)</text>\n",
        "</g>\n",
        "<!-- 140152375675152&#45;&gt;140152375011088 -->\n",
        "<g class=\"edge\" id=\"edge7\"><title>140152375675152-&gt;140152375011088</title>\n",
        "<path d=\"M190,-498.366C190,-490.152 190,-480.658 190,-471.725\" fill=\"none\" stroke=\"black\"/>\n",
        "<polygon fill=\"black\" points=\"193.5,-471.607 190,-461.607 186.5,-471.607 193.5,-471.607\" stroke=\"black\"/>\n",
        "</g>\n",
        "<!-- 140152375010320 -->\n",
        "<g class=\"node\" id=\"node9\"><title>140152375010320</title>\n",
        "<polygon fill=\"none\" points=\"63.5,-332.5 63.5,-378.5 316.5,-378.5 316.5,-332.5 63.5,-332.5\" stroke=\"black\"/>\n",
        "<text font-family=\"Times,serif\" font-size=\"14.00\" text-anchor=\"middle\" x=\"114.5\" y=\"-351.8\">dense_5: Dense</text>\n",
        "<polyline fill=\"none\" points=\"165.5,-332.5 165.5,-378.5 \" stroke=\"black\"/>\n",
        "<text font-family=\"Times,serif\" font-size=\"14.00\" text-anchor=\"middle\" x=\"193\" y=\"-363.3\">input:</text>\n",
        "<polyline fill=\"none\" points=\"165.5,-355.5 220.5,-355.5 \" stroke=\"black\"/>\n",
        "<text font-family=\"Times,serif\" font-size=\"14.00\" text-anchor=\"middle\" x=\"193\" y=\"-340.3\">output:</text>\n",
        "<polyline fill=\"none\" points=\"220.5,-332.5 220.5,-378.5 \" stroke=\"black\"/>\n",
        "<text font-family=\"Times,serif\" font-size=\"14.00\" text-anchor=\"middle\" x=\"268.5\" y=\"-363.3\">(None, 70656)</text>\n",
        "<polyline fill=\"none\" points=\"220.5,-355.5 316.5,-355.5 \" stroke=\"black\"/>\n",
        "<text font-family=\"Times,serif\" font-size=\"14.00\" text-anchor=\"middle\" x=\"268.5\" y=\"-340.3\">(None, 128)</text>\n",
        "</g>\n",
        "<!-- 140152375011088&#45;&gt;140152375010320 -->\n",
        "<g class=\"edge\" id=\"edge8\"><title>140152375011088-&gt;140152375010320</title>\n",
        "<path d=\"M190,-415.366C190,-407.152 190,-397.658 190,-388.725\" fill=\"none\" stroke=\"black\"/>\n",
        "<polygon fill=\"black\" points=\"193.5,-388.607 190,-378.607 186.5,-388.607 193.5,-388.607\" stroke=\"black\"/>\n",
        "</g>\n",
        "<!-- 140152375060304 -->\n",
        "<g class=\"node\" id=\"node10\"><title>140152375060304</title>\n",
        "<polygon fill=\"none\" points=\"43.5,-249.5 43.5,-295.5 336.5,-295.5 336.5,-249.5 43.5,-249.5\" stroke=\"black\"/>\n",
        "<text font-family=\"Times,serif\" font-size=\"14.00\" text-anchor=\"middle\" x=\"121\" y=\"-268.8\">activation_11: Activation</text>\n",
        "<polyline fill=\"none\" points=\"198.5,-249.5 198.5,-295.5 \" stroke=\"black\"/>\n",
        "<text font-family=\"Times,serif\" font-size=\"14.00\" text-anchor=\"middle\" x=\"226\" y=\"-280.3\">input:</text>\n",
        "<polyline fill=\"none\" points=\"198.5,-272.5 253.5,-272.5 \" stroke=\"black\"/>\n",
        "<text font-family=\"Times,serif\" font-size=\"14.00\" text-anchor=\"middle\" x=\"226\" y=\"-257.3\">output:</text>\n",
        "<polyline fill=\"none\" points=\"253.5,-249.5 253.5,-295.5 \" stroke=\"black\"/>\n",
        "<text font-family=\"Times,serif\" font-size=\"14.00\" text-anchor=\"middle\" x=\"295\" y=\"-280.3\">(None, 128)</text>\n",
        "<polyline fill=\"none\" points=\"253.5,-272.5 336.5,-272.5 \" stroke=\"black\"/>\n",
        "<text font-family=\"Times,serif\" font-size=\"14.00\" text-anchor=\"middle\" x=\"295\" y=\"-257.3\">(None, 128)</text>\n",
        "</g>\n",
        "<!-- 140152375010320&#45;&gt;140152375060304 -->\n",
        "<g class=\"edge\" id=\"edge9\"><title>140152375010320-&gt;140152375060304</title>\n",
        "<path d=\"M190,-332.366C190,-324.152 190,-314.658 190,-305.725\" fill=\"none\" stroke=\"black\"/>\n",
        "<polygon fill=\"black\" points=\"193.5,-305.607 190,-295.607 186.5,-305.607 193.5,-305.607\" stroke=\"black\"/>\n",
        "</g>\n",
        "<!-- 140152374388816 -->\n",
        "<g class=\"node\" id=\"node11\"><title>140152374388816</title>\n",
        "<polygon fill=\"none\" points=\"58.5,-166.5 58.5,-212.5 321.5,-212.5 321.5,-166.5 58.5,-166.5\" stroke=\"black\"/>\n",
        "<text font-family=\"Times,serif\" font-size=\"14.00\" text-anchor=\"middle\" x=\"121\" y=\"-185.8\">dropout_6: Dropout</text>\n",
        "<polyline fill=\"none\" points=\"183.5,-166.5 183.5,-212.5 \" stroke=\"black\"/>\n",
        "<text font-family=\"Times,serif\" font-size=\"14.00\" text-anchor=\"middle\" x=\"211\" y=\"-197.3\">input:</text>\n",
        "<polyline fill=\"none\" points=\"183.5,-189.5 238.5,-189.5 \" stroke=\"black\"/>\n",
        "<text font-family=\"Times,serif\" font-size=\"14.00\" text-anchor=\"middle\" x=\"211\" y=\"-174.3\">output:</text>\n",
        "<polyline fill=\"none\" points=\"238.5,-166.5 238.5,-212.5 \" stroke=\"black\"/>\n",
        "<text font-family=\"Times,serif\" font-size=\"14.00\" text-anchor=\"middle\" x=\"280\" y=\"-197.3\">(None, 128)</text>\n",
        "<polyline fill=\"none\" points=\"238.5,-189.5 321.5,-189.5 \" stroke=\"black\"/>\n",
        "<text font-family=\"Times,serif\" font-size=\"14.00\" text-anchor=\"middle\" x=\"280\" y=\"-174.3\">(None, 128)</text>\n",
        "</g>\n",
        "<!-- 140152375060304&#45;&gt;140152374388816 -->\n",
        "<g class=\"edge\" id=\"edge10\"><title>140152375060304-&gt;140152374388816</title>\n",
        "<path d=\"M190,-249.366C190,-241.152 190,-231.658 190,-222.725\" fill=\"none\" stroke=\"black\"/>\n",
        "<polygon fill=\"black\" points=\"193.5,-222.607 190,-212.607 186.5,-222.607 193.5,-222.607\" stroke=\"black\"/>\n",
        "</g>\n",
        "<!-- 140152375061008 -->\n",
        "<g class=\"node\" id=\"node12\"><title>140152375061008</title>\n",
        "<polygon fill=\"none\" points=\"70,-83.5 70,-129.5 310,-129.5 310,-83.5 70,-83.5\" stroke=\"black\"/>\n",
        "<text font-family=\"Times,serif\" font-size=\"14.00\" text-anchor=\"middle\" x=\"121\" y=\"-102.8\">dense_6: Dense</text>\n",
        "<polyline fill=\"none\" points=\"172,-83.5 172,-129.5 \" stroke=\"black\"/>\n",
        "<text font-family=\"Times,serif\" font-size=\"14.00\" text-anchor=\"middle\" x=\"199.5\" y=\"-114.3\">input:</text>\n",
        "<polyline fill=\"none\" points=\"172,-106.5 227,-106.5 \" stroke=\"black\"/>\n",
        "<text font-family=\"Times,serif\" font-size=\"14.00\" text-anchor=\"middle\" x=\"199.5\" y=\"-91.3\">output:</text>\n",
        "<polyline fill=\"none\" points=\"227,-83.5 227,-129.5 \" stroke=\"black\"/>\n",
        "<text font-family=\"Times,serif\" font-size=\"14.00\" text-anchor=\"middle\" x=\"268.5\" y=\"-114.3\">(None, 128)</text>\n",
        "<polyline fill=\"none\" points=\"227,-106.5 310,-106.5 \" stroke=\"black\"/>\n",
        "<text font-family=\"Times,serif\" font-size=\"14.00\" text-anchor=\"middle\" x=\"268.5\" y=\"-91.3\">(None, 69)</text>\n",
        "</g>\n",
        "<!-- 140152374388816&#45;&gt;140152375061008 -->\n",
        "<g class=\"edge\" id=\"edge11\"><title>140152374388816-&gt;140152375061008</title>\n",
        "<path d=\"M190,-166.366C190,-158.152 190,-148.658 190,-139.725\" fill=\"none\" stroke=\"black\"/>\n",
        "<polygon fill=\"black\" points=\"193.5,-139.607 190,-129.607 186.5,-139.607 193.5,-139.607\" stroke=\"black\"/>\n",
        "</g>\n",
        "<!-- 140152374233872 -->\n",
        "<g class=\"node\" id=\"node13\"><title>140152374233872</title>\n",
        "<polygon fill=\"none\" points=\"47,-0.5 47,-46.5 333,-46.5 333,-0.5 47,-0.5\" stroke=\"black\"/>\n",
        "<text font-family=\"Times,serif\" font-size=\"14.00\" text-anchor=\"middle\" x=\"124.5\" y=\"-19.8\">activation_12: Activation</text>\n",
        "<polyline fill=\"none\" points=\"202,-0.5 202,-46.5 \" stroke=\"black\"/>\n",
        "<text font-family=\"Times,serif\" font-size=\"14.00\" text-anchor=\"middle\" x=\"229.5\" y=\"-31.3\">input:</text>\n",
        "<polyline fill=\"none\" points=\"202,-23.5 257,-23.5 \" stroke=\"black\"/>\n",
        "<text font-family=\"Times,serif\" font-size=\"14.00\" text-anchor=\"middle\" x=\"229.5\" y=\"-8.3\">output:</text>\n",
        "<polyline fill=\"none\" points=\"257,-0.5 257,-46.5 \" stroke=\"black\"/>\n",
        "<text font-family=\"Times,serif\" font-size=\"14.00\" text-anchor=\"middle\" x=\"295\" y=\"-31.3\">(None, 69)</text>\n",
        "<polyline fill=\"none\" points=\"257,-23.5 333,-23.5 \" stroke=\"black\"/>\n",
        "<text font-family=\"Times,serif\" font-size=\"14.00\" text-anchor=\"middle\" x=\"295\" y=\"-8.3\">(None, 69)</text>\n",
        "</g>\n",
        "<!-- 140152375061008&#45;&gt;140152374233872 -->\n",
        "<g class=\"edge\" id=\"edge12\"><title>140152375061008-&gt;140152374233872</title>\n",
        "<path d=\"M190,-83.3664C190,-75.1516 190,-65.6579 190,-56.7252\" fill=\"none\" stroke=\"black\"/>\n",
        "<polygon fill=\"black\" points=\"193.5,-56.6068 190,-46.6068 186.5,-56.6069 193.5,-56.6068\" stroke=\"black\"/>\n",
        "</g>\n",
        "</g>\n",
        "</svg>"
       ],
       "text": [
        "<IPython.core.display.SVG at 0x7f77c50d4e90>"
       ]
      }
     ],
     "prompt_number": 57
    },
    {
     "cell_type": "code",
     "collapsed": false,
     "input": [
      "%%time\n",
      "\n",
      "epochs = 3\n",
      "\n",
      "history = model.fit(x_train, \n",
      "                    y_train, \n",
      "                    epochs=epochs, \n",
      "                    batch_size=128,\n",
      "                    verbose=2)"
     ],
     "language": "python",
     "metadata": {},
     "outputs": [],
     "prompt_number": 58
    },
    {
     "cell_type": "code",
     "collapsed": false,
     "input": [
      "scores = model.evaluate(x_train, y_train)\n",
      "print(\"\\n%s: %.2f%%\" % (model.metrics_names[1], scores[1]*100))\n",
      "(model.metrics_names[1], scores[1]*100)"
     ],
     "language": "python",
     "metadata": {},
     "outputs": [
      {
       "metadata": {},
       "output_type": "pyout",
       "prompt_number": 60,
       "text": [
        "('acc', 76.453081232492991)"
       ]
      }
     ],
     "prompt_number": 60
    },
    {
     "cell_type": "code",
     "collapsed": false,
     "input": [
      "predictions = model.predict(x_test)"
     ],
     "language": "python",
     "metadata": {},
     "outputs": [],
     "prompt_number": 61
    },
    {
     "cell_type": "code",
     "collapsed": false,
     "input": [
      "print(\"\\n%s:\" % (model.metrics_names[1]))\n",
      "print(100 * predictions)"
     ],
     "language": "python",
     "metadata": {},
     "outputs": []
    },
    {
     "cell_type": "code",
     "collapsed": false,
     "input": [
      "100 * predictions"
     ],
     "language": "python",
     "metadata": {},
     "outputs": [
      {
       "metadata": {},
       "output_type": "pyout",
       "prompt_number": 63,
       "text": [
        "array([[  4.03536558e+00,   5.16775809e-02,   3.72226745e-01, ...,\n",
        "          2.44865850e-01,   5.21838760e+00,   7.32526407e-02],\n",
        "       [  4.47363928e-02,   5.77970147e-01,   2.26872936e-02, ...,\n",
        "          2.79449020e-03,   1.10984966e-02,   4.42790595e-04],\n",
        "       [  2.62597775e+00,   7.76070476e-01,   6.65961504e-02, ...,\n",
        "          1.01688839e-02,   3.24126966e-02,   3.05498252e-03],\n",
        "       ..., \n",
        "       [  1.79037787e-02,   1.13504410e+00,   1.92358047e-01, ...,\n",
        "          7.12757604e-03,   1.78024061e-02,   5.12595382e-03],\n",
        "       [  9.88258747e-04,   1.83535069e-01,   1.58046708e-01, ...,\n",
        "          7.55566056e-04,   1.28372554e-02,   3.05373943e-03],\n",
        "       [  2.87411641e-02,   1.74979895e-01,   1.25341728e-01, ...,\n",
        "          1.23010455e-02,   1.74168199e-01,   6.79551065e-03]], dtype=float32)"
       ]
      }
     ],
     "prompt_number": 63
    },
    {
     "cell_type": "code",
     "collapsed": false,
     "input": [
      "predictions[5].max()"
     ],
     "language": "python",
     "metadata": {},
     "outputs": [
      {
       "metadata": {},
       "output_type": "pyout",
       "prompt_number": 64,
       "text": [
        "0.99961001"
       ]
      }
     ],
     "prompt_number": 64
    },
    {
     "cell_type": "code",
     "collapsed": false,
     "input": [
      "predicted_char=encoder.inverse_transform(predictions)\n",
      "predicted_char[5]"
     ],
     "language": "python",
     "metadata": {},
     "outputs": [
      {
       "metadata": {},
       "output_type": "pyout",
       "prompt_number": 65,
       "text": [
        "'2'"
       ]
      }
     ],
     "prompt_number": 65
    },
    {
     "cell_type": "code",
     "collapsed": false,
     "input": [
      "predicted_char[67]\n"
     ],
     "language": "python",
     "metadata": {},
     "outputs": [
      {
       "metadata": {},
       "output_type": "pyout",
       "prompt_number": 74,
       "text": [
        "'E'"
       ]
      }
     ],
     "prompt_number": 74
    },
    {
     "cell_type": "code",
     "collapsed": false,
     "input": [
      "y_test_reconstructed[67]"
     ],
     "language": "python",
     "metadata": {},
     "outputs": [
      {
       "metadata": {},
       "output_type": "pyout",
       "prompt_number": 75,
       "text": [
        "'E'"
       ]
      }
     ],
     "prompt_number": 75
    },
    {
     "cell_type": "code",
     "collapsed": false,
     "input": [
      "scores2 = model.evaluate(x_test, y_test)\n",
      "print(\"\\n%s: %.2f%%\" % (model.metrics_names[1], scores2[1]*100))\n",
      "scores2"
     ],
     "language": "python",
     "metadata": {},
     "outputs": [
      {
       "metadata": {},
       "output_type": "pyout",
       "prompt_number": 66,
       "text": [
        "[1.4803613580130284, 0.65522875816993464]"
       ]
      }
     ],
     "prompt_number": 66
    },
    {
     "cell_type": "code",
     "collapsed": false,
     "input": [
      "%matplotlib inline\n",
      "import matplotlib.pyplot as plt\n",
      "plt.hist(predictions[67],bins=60)\n",
      "plt.show()"
     ],
     "language": "python",
     "metadata": {},
     "outputs": [
      {
       "metadata": {},
       "output_type": "display_data",
       "png": "[encoded data removed]",
       "text": [
        "<matplotlib.figure.Figure at 0x7f77b83470d0>"
       ]
      }
     ],
     "prompt_number": 71
    },
    {
     "cell_type": "code",
     "collapsed": false,
     "input": [
      "%matplotlib inline\n",
      "import matplotlib.pyplot as plt\n",
      "plt.hist(predictions.max(axis=1),bins=100)\n",
      "plt.show()"
     ],
     "language": "python",
     "metadata": {},
     "outputs": [
      {
       "metadata": {},
       "output_type": "display_data",
       "png": "[encoded data removed]",
       "text": [
        "<matplotlib.figure.Figure at 0x7f77c50a8590>"
       ]
      }
     ],
     "prompt_number": 68
    },
    {
     "cell_type": "code",
     "collapsed": false,
     "input": [],
     "language": "python",
     "metadata": {},
     "outputs": []
    }
   ],
   "metadata": {}
  }
 ]
}