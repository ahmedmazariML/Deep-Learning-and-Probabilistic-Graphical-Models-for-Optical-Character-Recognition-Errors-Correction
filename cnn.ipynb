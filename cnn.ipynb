{
 "metadata": {
  "name": "",
  "signature": "sha256:98bf14b6155512ecceeb40478a2cbbb4bd9856e04c97d39418404e190a107f5e"
 },
 "nbformat": 3,
 "nbformat_minor": 0,
 "worksheets": [
  {
   "cells": [
    {
     "cell_type": "code",
     "collapsed": false,
     "input": [
      "from __future__ import print_function\n",
      "from keras.models import Sequential\n",
      "%matplotlib inline\n",
      "\n",
      "\n",
      "from keras.layers import Dense, Activation, Dropout, Flatten, MaxPooling2D\n",
      "from keras.layers.convolutional import Conv2D \n",
      "from keras.utils import np_utils\n",
      "from keras import backend as K\n",
      "\n",
      "from distutils.version import LooseVersion as LV\n",
      "from keras import __version__\n",
      "\n",
      "from IPython.display import SVG\n",
      "from keras.utils.vis_utils import model_to_dot\n",
      "\n",
      "import numpy as np\n",
      "import matplotlib.pyplot as plt\n",
      "import seaborn as sns\n",
      "\n",
      "print('Using Keras version:', __version__, 'backend:', K.backend())\n",
      "assert(LV(__version__) >= LV(\"2.0.0\"))\n"
     ],
     "language": "python",
     "metadata": {},
     "outputs": [
      {
       "output_type": "stream",
       "stream": "stdout",
       "text": [
        "Using Keras version: 2.0.2 backend: tensorflow\n"
       ]
      },
      {
       "output_type": "stream",
       "stream": "stderr",
       "text": [
        "Using TensorFlow backend.\n"
       ]
      }
     ],
     "prompt_number": 1
    },
    {
     "cell_type": "code",
     "collapsed": false,
     "input": [
      "# fix random seed for reproducibility\n",
      "np.random.seed(7)\n",
      "batch_size = 128\n",
      "num_classes = 66\n",
      "epochs = 12\n",
      "\n",
      "# input image dimensions\n",
      "img_rows, img_cols = 32, 32\n",
      "\n",
      "# the data, shuffled and split between train and test sets\n",
      "#(x_train, y_train), (x_test, y_test) = mnist.load_data()\n",
      "data_pixels=np.genfromtxt(\"/home/ahmed/internship/cnn_ocr/pixels_dataset.csv\", delimiter=',')\n",
      "classes_dataset=np.genfromtxt(\"/home/ahmed/internship/cnn_ocr/labels.csv\",dtype=np.str , delimiter='\\t')\n",
      "data_pixels.shape\n"
     ],
     "language": "python",
     "metadata": {},
     "outputs": [
      {
       "metadata": {},
       "output_type": "pyout",
       "prompt_number": 2,
       "text": [
        "(2440, 3072)"
       ]
      }
     ],
     "prompt_number": 2
    },
    {
     "cell_type": "code",
     "collapsed": false,
     "input": [
      "\n",
      "import sys\n",
      "reload(sys)\n",
      "sys.setdefaultencoding(\"utf-8\")\n",
      "from collections import Counter\n",
      "import numpy as np\n",
      "import matplotlib.pyplot as plt\n",
      "\n",
      "labels, values = zip(*Counter(classes_dataset).items())\n",
      "print(\"labels \", labels)\n",
      "print(\"lvalues\", values)"
     ],
     "language": "python",
     "metadata": {},
     "outputs": [],
     "prompt_number": 5
    },
    {
     "cell_type": "code",
     "collapsed": false,
     "input": [
      "%pylab inline\n",
      "pylab.rcParams['figure.figsize'] = (30, 10)\n",
      "indexes = np.arange(len(labels))\n",
      "width = 0.5\n",
      "\n",
      "plt.bar(indexes, values, width)\n",
      "plt.xticks(indexes + width * 0.5, labels)\n",
      "#plt.figure(figsize=(5000,5000))\n",
      "plt.show()"
     ],
     "language": "python",
     "metadata": {},
     "outputs": [
      {
       "metadata": {},
       "output_type": "display_data",
       "png": "[encoded data removed]",
       "text": [
        "<matplotlib.figure.Figure at 0x7f1c6454ba10>"
       ]
      }
     ],
     "prompt_number": 6
    },
    {
     "cell_type": "code",
     "collapsed": false,
     "input": [
      "images_names=np.genfromtxt(\"/home/ahmed/internship/cnn_ocr/images_names.csv\",dtype=np.str,delimiter='\\t')"
     ],
     "language": "python",
     "metadata": {},
     "outputs": [],
     "prompt_number": 7
    },
    {
     "cell_type": "code",
     "collapsed": false,
     "input": [
      "my_label=np.genfromtxt(\"/home/ahmed/internship/cnn_ocr/labels.csv\",dtype=np.str , delimiter='\\t')\n",
      "print(my_label.shape)\n",
      "print(classes_dataset.shape)"
     ],
     "language": "python",
     "metadata": {},
     "outputs": [],
     "prompt_number": 8
    },
    {
     "cell_type": "code",
     "collapsed": false,
     "input": [
      "\n",
      "from sklearn.preprocessing import LabelBinarizer\n",
      "encoder=LabelBinarizer()\n",
      "classes_dataset = encoder.fit_transform(classes_dataset)"
     ],
     "language": "python",
     "metadata": {},
     "outputs": [],
     "prompt_number": 9
    },
    {
     "cell_type": "code",
     "collapsed": false,
     "input": [
      "def shuffle_data(x,y,z):\n",
      "    idx = np.random.permutation(len(x))\n",
      "    x_data,y_labels,name_img = x[idx], y[idx], z[idx]\n",
      "    return x_data,y_labels, name_img"
     ],
     "language": "python",
     "metadata": {},
     "outputs": [],
     "prompt_number": 10
    },
    {
     "cell_type": "code",
     "collapsed": false,
     "input": [
      "data,labels,name_img=shuffle_data(data_pixels,classes_dataset,images_names)"
     ],
     "language": "python",
     "metadata": {},
     "outputs": [],
     "prompt_number": 11
    },
    {
     "cell_type": "code",
     "collapsed": false,
     "input": [
      "\n",
      "from sklearn.cross_validation import train_test_split\n",
      "x_train, x_test, y_train, y_test, name_images_train, name_images_test=train_test_split(data,labels, name_img, \n",
      "                                                     test_size=0.3, \n",
      "                                                     random_state=42)\n",
      "print(x_train.shape)\n",
      "print(x_test.shape)\n",
      "print(y_train.shape)\n",
      "print(y_test.shape)\n",
      "print(name_images_train.shape)\n",
      "print(name_images_test.shape)\n",
      "\n",
      "print(name_images_test[0:10])"
     ],
     "language": "python",
     "metadata": {},
     "outputs": [],
     "prompt_number": 12
    },
    {
     "cell_type": "code",
     "collapsed": false,
     "input": [
      "y_test_reconstructed=encoder.inverse_transform(y_test)\n",
      "y_train_reconstructed=encoder.inverse_transform(y_train)"
     ],
     "language": "python",
     "metadata": {},
     "outputs": [],
     "prompt_number": 13
    },
    {
     "cell_type": "code",
     "collapsed": false,
     "input": [
      "x_train=x_train[:,:1024]\n",
      "x_test=x_test[:,:1024]\n",
      "x_train.shape"
     ],
     "language": "python",
     "metadata": {},
     "outputs": [
      {
       "metadata": {},
       "output_type": "pyout",
       "prompt_number": 14,
       "text": [
        "(1708, 1024)"
       ]
      }
     ],
     "prompt_number": 14
    },
    {
     "cell_type": "code",
     "collapsed": false,
     "input": [
      "#img = np.reshape(x, (32, 32)) \n",
      "x_train=x_train.reshape(1708,32,32)\n",
      "x_test=x_test.reshape(732,32,32)\n",
      "print(x_train.shape)\n",
      "print(x_test.shape)\n",
      "print(y_train.shape)\n",
      "print(y_test.shape)"
     ],
     "language": "python",
     "metadata": {},
     "outputs": [],
     "prompt_number": 15
    },
    {
     "cell_type": "code",
     "collapsed": false,
     "input": [],
     "language": "python",
     "metadata": {},
     "outputs": [],
     "prompt_number": 15
    },
    {
     "cell_type": "code",
     "collapsed": false,
     "input": [
      "\n",
      "# input image dimensions\n",
      "img_rows, img_cols = 32, 32\n",
      "\n",
      "if K.image_dim_ordering() == 'th':\n",
      "    x_train = x_train.reshape(x_train.shape[0], 1, img_rows, img_cols)\n",
      "    x_test = x_test.reshape(x_test.shape[0], 1, img_rows, img_cols)\n",
      "    input_shape = (1, img_rows, img_cols)\n",
      "else:\n",
      "    x_train = x_train.reshape(x_train.shape[0], img_rows, img_cols, 1)\n",
      "    x_test = x_test.reshape(x_test.shape[0], img_rows, img_cols, 1)\n",
      "    input_shape = (img_rows, img_cols, 1)\n",
      "    \n",
      "print('X_train:', x_train.shape)"
     ],
     "language": "python",
     "metadata": {},
     "outputs": [],
     "prompt_number": 16
    },
    {
     "cell_type": "code",
     "collapsed": false,
     "input": [
      "nb_classes=66\n",
      "\n",
      "# number of convolutional filters to use\n",
      "nb_filters = 32\n",
      "# convolution kernel size\n",
      "kernel_size = (3, 3)\n",
      "# size of pooling area for max pooling\n",
      "pool_size = (2, 2)\n",
      "\n",
      "model = Sequential()\n",
      "\n",
      "model.add(Conv2D(nb_filters, kernel_size,\n",
      "                 padding='valid',\n",
      "                 input_shape=input_shape))\n",
      "model.add(Activation('relu'))\n",
      "model.add(Conv2D(nb_filters, kernel_size))\n",
      "model.add(Activation('relu'))\n",
      "model.add(MaxPooling2D(pool_size=pool_size))\n",
      "model.add(Dropout(0.25))\n",
      "\n",
      "model.add(Flatten())\n",
      "model.add(Dense(units=128))\n",
      "model.add(Activation('relu'))\n",
      "model.add(Dropout(0.5))\n",
      "model.add(Dense(units=nb_classes))\n",
      "model.add(Activation('softmax'))\n",
      "\n",
      "model.compile(loss='categorical_crossentropy',\n",
      "              optimizer='adam',\n",
      "              metrics=['accuracy'])\n",
      "print(model.summary())"
     ],
     "language": "python",
     "metadata": {},
     "outputs": [],
     "prompt_number": 17
    },
    {
     "cell_type": "code",
     "collapsed": false,
     "input": [],
     "language": "python",
     "metadata": {},
     "outputs": [],
     "prompt_number": 17
    },
    {
     "cell_type": "code",
     "collapsed": false,
     "input": [
      "SVG(model_to_dot(model, show_shapes=True).create(prog='dot', format='svg'))"
     ],
     "language": "python",
     "metadata": {},
     "outputs": [
      {
       "metadata": {},
       "output_type": "pyout",
       "prompt_number": 18,
       "svg": [
        "<svg height=\"1051pt\" viewBox=\"0.00 0.00 388.00 1051.00\" width=\"388pt\" xmlns=\"http://www.w3.org/2000/svg\" xmlns:xlink=\"http://www.w3.org/1999/xlink\">\n",
        "<g class=\"graph\" id=\"graph0\" transform=\"scale(1 1) rotate(0) translate(4 1047)\">\n",
        "<title>G</title>\n",
        "<polygon fill=\"white\" points=\"-4,4 -4,-1047 384,-1047 384,4 -4,4\" stroke=\"none\"/>\n",
        "<!-- 139759917834384 -->\n",
        "<g class=\"node\" id=\"node1\"><title>139759917834384</title>\n",
        "<polygon fill=\"none\" points=\"21,-996.5 21,-1042.5 359,-1042.5 359,-996.5 21,-996.5\" stroke=\"black\"/>\n",
        "<text font-family=\"Times,serif\" font-size=\"14.00\" text-anchor=\"middle\" x=\"107\" y=\"-1015.8\">conv2d_1_input: InputLayer</text>\n",
        "<polyline fill=\"none\" points=\"193,-996.5 193,-1042.5 \" stroke=\"black\"/>\n",
        "<text font-family=\"Times,serif\" font-size=\"14.00\" text-anchor=\"middle\" x=\"220.5\" y=\"-1027.3\">input:</text>\n",
        "<polyline fill=\"none\" points=\"193,-1019.5 248,-1019.5 \" stroke=\"black\"/>\n",
        "<text font-family=\"Times,serif\" font-size=\"14.00\" text-anchor=\"middle\" x=\"220.5\" y=\"-1004.3\">output:</text>\n",
        "<polyline fill=\"none\" points=\"248,-996.5 248,-1042.5 \" stroke=\"black\"/>\n",
        "<text font-family=\"Times,serif\" font-size=\"14.00\" text-anchor=\"middle\" x=\"303.5\" y=\"-1027.3\">(None, 32, 32, 1)</text>\n",
        "<polyline fill=\"none\" points=\"248,-1019.5 359,-1019.5 \" stroke=\"black\"/>\n",
        "<text font-family=\"Times,serif\" font-size=\"14.00\" text-anchor=\"middle\" x=\"303.5\" y=\"-1004.3\">(None, 32, 32, 1)</text>\n",
        "</g>\n",
        "<!-- 139759917829520 -->\n",
        "<g class=\"node\" id=\"node2\"><title>139759917829520</title>\n",
        "<polygon fill=\"none\" points=\"42,-913.5 42,-959.5 338,-959.5 338,-913.5 42,-913.5\" stroke=\"black\"/>\n",
        "<text font-family=\"Times,serif\" font-size=\"14.00\" text-anchor=\"middle\" x=\"103.5\" y=\"-932.8\">conv2d_1: Conv2D</text>\n",
        "<polyline fill=\"none\" points=\"165,-913.5 165,-959.5 \" stroke=\"black\"/>\n",
        "<text font-family=\"Times,serif\" font-size=\"14.00\" text-anchor=\"middle\" x=\"192.5\" y=\"-944.3\">input:</text>\n",
        "<polyline fill=\"none\" points=\"165,-936.5 220,-936.5 \" stroke=\"black\"/>\n",
        "<text font-family=\"Times,serif\" font-size=\"14.00\" text-anchor=\"middle\" x=\"192.5\" y=\"-921.3\">output:</text>\n",
        "<polyline fill=\"none\" points=\"220,-913.5 220,-959.5 \" stroke=\"black\"/>\n",
        "<text font-family=\"Times,serif\" font-size=\"14.00\" text-anchor=\"middle\" x=\"279\" y=\"-944.3\">(None, 32, 32, 1)</text>\n",
        "<polyline fill=\"none\" points=\"220,-936.5 338,-936.5 \" stroke=\"black\"/>\n",
        "<text font-family=\"Times,serif\" font-size=\"14.00\" text-anchor=\"middle\" x=\"279\" y=\"-921.3\">(None, 30, 30, 32)</text>\n",
        "</g>\n",
        "<!-- 139759917834384&#45;&gt;139759917829520 -->\n",
        "<g class=\"edge\" id=\"edge1\"><title>139759917834384-&gt;139759917829520</title>\n",
        "<path d=\"M190,-996.366C190,-988.152 190,-978.658 190,-969.725\" fill=\"none\" stroke=\"black\"/>\n",
        "<polygon fill=\"black\" points=\"193.5,-969.607 190,-959.607 186.5,-969.607 193.5,-969.607\" stroke=\"black\"/>\n",
        "</g>\n",
        "<!-- 139759917830032 -->\n",
        "<g class=\"node\" id=\"node3\"><title>139759917830032</title>\n",
        "<polygon fill=\"none\" points=\"29.5,-830.5 29.5,-876.5 350.5,-876.5 350.5,-830.5 29.5,-830.5\" stroke=\"black\"/>\n",
        "<text font-family=\"Times,serif\" font-size=\"14.00\" text-anchor=\"middle\" x=\"103.5\" y=\"-849.8\">activation_1: Activation</text>\n",
        "<polyline fill=\"none\" points=\"177.5,-830.5 177.5,-876.5 \" stroke=\"black\"/>\n",
        "<text font-family=\"Times,serif\" font-size=\"14.00\" text-anchor=\"middle\" x=\"205\" y=\"-861.3\">input:</text>\n",
        "<polyline fill=\"none\" points=\"177.5,-853.5 232.5,-853.5 \" stroke=\"black\"/>\n",
        "<text font-family=\"Times,serif\" font-size=\"14.00\" text-anchor=\"middle\" x=\"205\" y=\"-838.3\">output:</text>\n",
        "<polyline fill=\"none\" points=\"232.5,-830.5 232.5,-876.5 \" stroke=\"black\"/>\n",
        "<text font-family=\"Times,serif\" font-size=\"14.00\" text-anchor=\"middle\" x=\"291.5\" y=\"-861.3\">(None, 30, 30, 32)</text>\n",
        "<polyline fill=\"none\" points=\"232.5,-853.5 350.5,-853.5 \" stroke=\"black\"/>\n",
        "<text font-family=\"Times,serif\" font-size=\"14.00\" text-anchor=\"middle\" x=\"291.5\" y=\"-838.3\">(None, 30, 30, 32)</text>\n",
        "</g>\n",
        "<!-- 139759917829520&#45;&gt;139759917830032 -->\n",
        "<g class=\"edge\" id=\"edge2\"><title>139759917829520-&gt;139759917830032</title>\n",
        "<path d=\"M190,-913.366C190,-905.152 190,-895.658 190,-886.725\" fill=\"none\" stroke=\"black\"/>\n",
        "<polygon fill=\"black\" points=\"193.5,-886.607 190,-876.607 186.5,-886.607 193.5,-886.607\" stroke=\"black\"/>\n",
        "</g>\n",
        "<!-- 139759917932816 -->\n",
        "<g class=\"node\" id=\"node4\"><title>139759917932816</title>\n",
        "<polygon fill=\"none\" points=\"42,-747.5 42,-793.5 338,-793.5 338,-747.5 42,-747.5\" stroke=\"black\"/>\n",
        "<text font-family=\"Times,serif\" font-size=\"14.00\" text-anchor=\"middle\" x=\"103.5\" y=\"-766.8\">conv2d_2: Conv2D</text>\n",
        "<polyline fill=\"none\" points=\"165,-747.5 165,-793.5 \" stroke=\"black\"/>\n",
        "<text font-family=\"Times,serif\" font-size=\"14.00\" text-anchor=\"middle\" x=\"192.5\" y=\"-778.3\">input:</text>\n",
        "<polyline fill=\"none\" points=\"165,-770.5 220,-770.5 \" stroke=\"black\"/>\n",
        "<text font-family=\"Times,serif\" font-size=\"14.00\" text-anchor=\"middle\" x=\"192.5\" y=\"-755.3\">output:</text>\n",
        "<polyline fill=\"none\" points=\"220,-747.5 220,-793.5 \" stroke=\"black\"/>\n",
        "<text font-family=\"Times,serif\" font-size=\"14.00\" text-anchor=\"middle\" x=\"279\" y=\"-778.3\">(None, 30, 30, 32)</text>\n",
        "<polyline fill=\"none\" points=\"220,-770.5 338,-770.5 \" stroke=\"black\"/>\n",
        "<text font-family=\"Times,serif\" font-size=\"14.00\" text-anchor=\"middle\" x=\"279\" y=\"-755.3\">(None, 28, 28, 32)</text>\n",
        "</g>\n",
        "<!-- 139759917830032&#45;&gt;139759917932816 -->\n",
        "<g class=\"edge\" id=\"edge3\"><title>139759917830032-&gt;139759917932816</title>\n",
        "<path d=\"M190,-830.366C190,-822.152 190,-812.658 190,-803.725\" fill=\"none\" stroke=\"black\"/>\n",
        "<polygon fill=\"black\" points=\"193.5,-803.607 190,-793.607 186.5,-803.607 193.5,-803.607\" stroke=\"black\"/>\n",
        "</g>\n",
        "<!-- 139759917920528 -->\n",
        "<g class=\"node\" id=\"node5\"><title>139759917920528</title>\n",
        "<polygon fill=\"none\" points=\"29.5,-664.5 29.5,-710.5 350.5,-710.5 350.5,-664.5 29.5,-664.5\" stroke=\"black\"/>\n",
        "<text font-family=\"Times,serif\" font-size=\"14.00\" text-anchor=\"middle\" x=\"103.5\" y=\"-683.8\">activation_2: Activation</text>\n",
        "<polyline fill=\"none\" points=\"177.5,-664.5 177.5,-710.5 \" stroke=\"black\"/>\n",
        "<text font-family=\"Times,serif\" font-size=\"14.00\" text-anchor=\"middle\" x=\"205\" y=\"-695.3\">input:</text>\n",
        "<polyline fill=\"none\" points=\"177.5,-687.5 232.5,-687.5 \" stroke=\"black\"/>\n",
        "<text font-family=\"Times,serif\" font-size=\"14.00\" text-anchor=\"middle\" x=\"205\" y=\"-672.3\">output:</text>\n",
        "<polyline fill=\"none\" points=\"232.5,-664.5 232.5,-710.5 \" stroke=\"black\"/>\n",
        "<text font-family=\"Times,serif\" font-size=\"14.00\" text-anchor=\"middle\" x=\"291.5\" y=\"-695.3\">(None, 28, 28, 32)</text>\n",
        "<polyline fill=\"none\" points=\"232.5,-687.5 350.5,-687.5 \" stroke=\"black\"/>\n",
        "<text font-family=\"Times,serif\" font-size=\"14.00\" text-anchor=\"middle\" x=\"291.5\" y=\"-672.3\">(None, 28, 28, 32)</text>\n",
        "</g>\n",
        "<!-- 139759917932816&#45;&gt;139759917920528 -->\n",
        "<g class=\"edge\" id=\"edge4\"><title>139759917932816-&gt;139759917920528</title>\n",
        "<path d=\"M190,-747.366C190,-739.152 190,-729.658 190,-720.725\" fill=\"none\" stroke=\"black\"/>\n",
        "<polygon fill=\"black\" points=\"193.5,-720.607 190,-710.607 186.5,-720.607 193.5,-720.607\" stroke=\"black\"/>\n",
        "</g>\n",
        "<!-- 139759917918736 -->\n",
        "<g class=\"node\" id=\"node6\"><title>139759917918736</title>\n",
        "<polygon fill=\"none\" points=\"0,-581.5 0,-627.5 380,-627.5 380,-581.5 0,-581.5\" stroke=\"black\"/>\n",
        "<text font-family=\"Times,serif\" font-size=\"14.00\" text-anchor=\"middle\" x=\"103.5\" y=\"-600.8\">max_pooling2d_1: MaxPooling2D</text>\n",
        "<polyline fill=\"none\" points=\"207,-581.5 207,-627.5 \" stroke=\"black\"/>\n",
        "<text font-family=\"Times,serif\" font-size=\"14.00\" text-anchor=\"middle\" x=\"234.5\" y=\"-612.3\">input:</text>\n",
        "<polyline fill=\"none\" points=\"207,-604.5 262,-604.5 \" stroke=\"black\"/>\n",
        "<text font-family=\"Times,serif\" font-size=\"14.00\" text-anchor=\"middle\" x=\"234.5\" y=\"-589.3\">output:</text>\n",
        "<polyline fill=\"none\" points=\"262,-581.5 262,-627.5 \" stroke=\"black\"/>\n",
        "<text font-family=\"Times,serif\" font-size=\"14.00\" text-anchor=\"middle\" x=\"321\" y=\"-612.3\">(None, 28, 28, 32)</text>\n",
        "<polyline fill=\"none\" points=\"262,-604.5 380,-604.5 \" stroke=\"black\"/>\n",
        "<text font-family=\"Times,serif\" font-size=\"14.00\" text-anchor=\"middle\" x=\"321\" y=\"-589.3\">(None, 14, 14, 32)</text>\n",
        "</g>\n",
        "<!-- 139759917920528&#45;&gt;139759917918736 -->\n",
        "<g class=\"edge\" id=\"edge5\"><title>139759917920528-&gt;139759917918736</title>\n",
        "<path d=\"M190,-664.366C190,-656.152 190,-646.658 190,-637.725\" fill=\"none\" stroke=\"black\"/>\n",
        "<polygon fill=\"black\" points=\"193.5,-637.607 190,-627.607 186.5,-637.607 193.5,-637.607\" stroke=\"black\"/>\n",
        "</g>\n",
        "<!-- 139759917916816 -->\n",
        "<g class=\"node\" id=\"node7\"><title>139759917916816</title>\n",
        "<polygon fill=\"none\" points=\"41,-498.5 41,-544.5 339,-544.5 339,-498.5 41,-498.5\" stroke=\"black\"/>\n",
        "<text font-family=\"Times,serif\" font-size=\"14.00\" text-anchor=\"middle\" x=\"103.5\" y=\"-517.8\">dropout_1: Dropout</text>\n",
        "<polyline fill=\"none\" points=\"166,-498.5 166,-544.5 \" stroke=\"black\"/>\n",
        "<text font-family=\"Times,serif\" font-size=\"14.00\" text-anchor=\"middle\" x=\"193.5\" y=\"-529.3\">input:</text>\n",
        "<polyline fill=\"none\" points=\"166,-521.5 221,-521.5 \" stroke=\"black\"/>\n",
        "<text font-family=\"Times,serif\" font-size=\"14.00\" text-anchor=\"middle\" x=\"193.5\" y=\"-506.3\">output:</text>\n",
        "<polyline fill=\"none\" points=\"221,-498.5 221,-544.5 \" stroke=\"black\"/>\n",
        "<text font-family=\"Times,serif\" font-size=\"14.00\" text-anchor=\"middle\" x=\"280\" y=\"-529.3\">(None, 14, 14, 32)</text>\n",
        "<polyline fill=\"none\" points=\"221,-521.5 339,-521.5 \" stroke=\"black\"/>\n",
        "<text font-family=\"Times,serif\" font-size=\"14.00\" text-anchor=\"middle\" x=\"280\" y=\"-506.3\">(None, 14, 14, 32)</text>\n",
        "</g>\n",
        "<!-- 139759917918736&#45;&gt;139759917916816 -->\n",
        "<g class=\"edge\" id=\"edge6\"><title>139759917918736-&gt;139759917916816</title>\n",
        "<path d=\"M190,-581.366C190,-573.152 190,-563.658 190,-554.725\" fill=\"none\" stroke=\"black\"/>\n",
        "<polygon fill=\"black\" points=\"193.5,-554.607 190,-544.607 186.5,-554.607 193.5,-554.607\" stroke=\"black\"/>\n",
        "</g>\n",
        "<!-- 139759917899600 -->\n",
        "<g class=\"node\" id=\"node8\"><title>139759917899600</title>\n",
        "<polygon fill=\"none\" points=\"48.5,-415.5 48.5,-461.5 331.5,-461.5 331.5,-415.5 48.5,-415.5\" stroke=\"black\"/>\n",
        "<text font-family=\"Times,serif\" font-size=\"14.00\" text-anchor=\"middle\" x=\"103.5\" y=\"-434.8\">flatten_1: Flatten</text>\n",
        "<polyline fill=\"none\" points=\"158.5,-415.5 158.5,-461.5 \" stroke=\"black\"/>\n",
        "<text font-family=\"Times,serif\" font-size=\"14.00\" text-anchor=\"middle\" x=\"186\" y=\"-446.3\">input:</text>\n",
        "<polyline fill=\"none\" points=\"158.5,-438.5 213.5,-438.5 \" stroke=\"black\"/>\n",
        "<text font-family=\"Times,serif\" font-size=\"14.00\" text-anchor=\"middle\" x=\"186\" y=\"-423.3\">output:</text>\n",
        "<polyline fill=\"none\" points=\"213.5,-415.5 213.5,-461.5 \" stroke=\"black\"/>\n",
        "<text font-family=\"Times,serif\" font-size=\"14.00\" text-anchor=\"middle\" x=\"272.5\" y=\"-446.3\">(None, 14, 14, 32)</text>\n",
        "<polyline fill=\"none\" points=\"213.5,-438.5 331.5,-438.5 \" stroke=\"black\"/>\n",
        "<text font-family=\"Times,serif\" font-size=\"14.00\" text-anchor=\"middle\" x=\"272.5\" y=\"-423.3\">(None, 6272)</text>\n",
        "</g>\n",
        "<!-- 139759917916816&#45;&gt;139759917899600 -->\n",
        "<g class=\"edge\" id=\"edge7\"><title>139759917916816-&gt;139759917899600</title>\n",
        "<path d=\"M190,-498.366C190,-490.152 190,-480.658 190,-471.725\" fill=\"none\" stroke=\"black\"/>\n",
        "<polygon fill=\"black\" points=\"193.5,-471.607 190,-461.607 186.5,-471.607 193.5,-471.607\" stroke=\"black\"/>\n",
        "</g>\n",
        "<!-- 139759917549456 -->\n",
        "<g class=\"node\" id=\"node9\"><title>139759917549456</title>\n",
        "<polygon fill=\"none\" points=\"67,-332.5 67,-378.5 313,-378.5 313,-332.5 67,-332.5\" stroke=\"black\"/>\n",
        "<text font-family=\"Times,serif\" font-size=\"14.00\" text-anchor=\"middle\" x=\"118\" y=\"-351.8\">dense_1: Dense</text>\n",
        "<polyline fill=\"none\" points=\"169,-332.5 169,-378.5 \" stroke=\"black\"/>\n",
        "<text font-family=\"Times,serif\" font-size=\"14.00\" text-anchor=\"middle\" x=\"196.5\" y=\"-363.3\">input:</text>\n",
        "<polyline fill=\"none\" points=\"169,-355.5 224,-355.5 \" stroke=\"black\"/>\n",
        "<text font-family=\"Times,serif\" font-size=\"14.00\" text-anchor=\"middle\" x=\"196.5\" y=\"-340.3\">output:</text>\n",
        "<polyline fill=\"none\" points=\"224,-332.5 224,-378.5 \" stroke=\"black\"/>\n",
        "<text font-family=\"Times,serif\" font-size=\"14.00\" text-anchor=\"middle\" x=\"268.5\" y=\"-363.3\">(None, 6272)</text>\n",
        "<polyline fill=\"none\" points=\"224,-355.5 313,-355.5 \" stroke=\"black\"/>\n",
        "<text font-family=\"Times,serif\" font-size=\"14.00\" text-anchor=\"middle\" x=\"268.5\" y=\"-340.3\">(None, 128)</text>\n",
        "</g>\n",
        "<!-- 139759917899600&#45;&gt;139759917549456 -->\n",
        "<g class=\"edge\" id=\"edge8\"><title>139759917899600-&gt;139759917549456</title>\n",
        "<path d=\"M190,-415.366C190,-407.152 190,-397.658 190,-388.725\" fill=\"none\" stroke=\"black\"/>\n",
        "<polygon fill=\"black\" points=\"193.5,-388.607 190,-378.607 186.5,-388.607 193.5,-388.607\" stroke=\"black\"/>\n",
        "</g>\n",
        "<!-- 139759917555216 -->\n",
        "<g class=\"node\" id=\"node10\"><title>139759917555216</title>\n",
        "<polygon fill=\"none\" points=\"47,-249.5 47,-295.5 333,-295.5 333,-249.5 47,-249.5\" stroke=\"black\"/>\n",
        "<text font-family=\"Times,serif\" font-size=\"14.00\" text-anchor=\"middle\" x=\"121\" y=\"-268.8\">activation_3: Activation</text>\n",
        "<polyline fill=\"none\" points=\"195,-249.5 195,-295.5 \" stroke=\"black\"/>\n",
        "<text font-family=\"Times,serif\" font-size=\"14.00\" text-anchor=\"middle\" x=\"222.5\" y=\"-280.3\">input:</text>\n",
        "<polyline fill=\"none\" points=\"195,-272.5 250,-272.5 \" stroke=\"black\"/>\n",
        "<text font-family=\"Times,serif\" font-size=\"14.00\" text-anchor=\"middle\" x=\"222.5\" y=\"-257.3\">output:</text>\n",
        "<polyline fill=\"none\" points=\"250,-249.5 250,-295.5 \" stroke=\"black\"/>\n",
        "<text font-family=\"Times,serif\" font-size=\"14.00\" text-anchor=\"middle\" x=\"291.5\" y=\"-280.3\">(None, 128)</text>\n",
        "<polyline fill=\"none\" points=\"250,-272.5 333,-272.5 \" stroke=\"black\"/>\n",
        "<text font-family=\"Times,serif\" font-size=\"14.00\" text-anchor=\"middle\" x=\"291.5\" y=\"-257.3\">(None, 128)</text>\n",
        "</g>\n",
        "<!-- 139759917549456&#45;&gt;139759917555216 -->\n",
        "<g class=\"edge\" id=\"edge9\"><title>139759917549456-&gt;139759917555216</title>\n",
        "<path d=\"M190,-332.366C190,-324.152 190,-314.658 190,-305.725\" fill=\"none\" stroke=\"black\"/>\n",
        "<polygon fill=\"black\" points=\"193.5,-305.607 190,-295.607 186.5,-305.607 193.5,-305.607\" stroke=\"black\"/>\n",
        "</g>\n",
        "<!-- 139759917533008 -->\n",
        "<g class=\"node\" id=\"node11\"><title>139759917533008</title>\n",
        "<polygon fill=\"none\" points=\"58.5,-166.5 58.5,-212.5 321.5,-212.5 321.5,-166.5 58.5,-166.5\" stroke=\"black\"/>\n",
        "<text font-family=\"Times,serif\" font-size=\"14.00\" text-anchor=\"middle\" x=\"121\" y=\"-185.8\">dropout_2: Dropout</text>\n",
        "<polyline fill=\"none\" points=\"183.5,-166.5 183.5,-212.5 \" stroke=\"black\"/>\n",
        "<text font-family=\"Times,serif\" font-size=\"14.00\" text-anchor=\"middle\" x=\"211\" y=\"-197.3\">input:</text>\n",
        "<polyline fill=\"none\" points=\"183.5,-189.5 238.5,-189.5 \" stroke=\"black\"/>\n",
        "<text font-family=\"Times,serif\" font-size=\"14.00\" text-anchor=\"middle\" x=\"211\" y=\"-174.3\">output:</text>\n",
        "<polyline fill=\"none\" points=\"238.5,-166.5 238.5,-212.5 \" stroke=\"black\"/>\n",
        "<text font-family=\"Times,serif\" font-size=\"14.00\" text-anchor=\"middle\" x=\"280\" y=\"-197.3\">(None, 128)</text>\n",
        "<polyline fill=\"none\" points=\"238.5,-189.5 321.5,-189.5 \" stroke=\"black\"/>\n",
        "<text font-family=\"Times,serif\" font-size=\"14.00\" text-anchor=\"middle\" x=\"280\" y=\"-174.3\">(None, 128)</text>\n",
        "</g>\n",
        "<!-- 139759917555216&#45;&gt;139759917533008 -->\n",
        "<g class=\"edge\" id=\"edge10\"><title>139759917555216-&gt;139759917533008</title>\n",
        "<path d=\"M190,-249.366C190,-241.152 190,-231.658 190,-222.725\" fill=\"none\" stroke=\"black\"/>\n",
        "<polygon fill=\"black\" points=\"193.5,-222.607 190,-212.607 186.5,-222.607 193.5,-222.607\" stroke=\"black\"/>\n",
        "</g>\n",
        "<!-- 139759917528720 -->\n",
        "<g class=\"node\" id=\"node12\"><title>139759917528720</title>\n",
        "<polygon fill=\"none\" points=\"70,-83.5 70,-129.5 310,-129.5 310,-83.5 70,-83.5\" stroke=\"black\"/>\n",
        "<text font-family=\"Times,serif\" font-size=\"14.00\" text-anchor=\"middle\" x=\"121\" y=\"-102.8\">dense_2: Dense</text>\n",
        "<polyline fill=\"none\" points=\"172,-83.5 172,-129.5 \" stroke=\"black\"/>\n",
        "<text font-family=\"Times,serif\" font-size=\"14.00\" text-anchor=\"middle\" x=\"199.5\" y=\"-114.3\">input:</text>\n",
        "<polyline fill=\"none\" points=\"172,-106.5 227,-106.5 \" stroke=\"black\"/>\n",
        "<text font-family=\"Times,serif\" font-size=\"14.00\" text-anchor=\"middle\" x=\"199.5\" y=\"-91.3\">output:</text>\n",
        "<polyline fill=\"none\" points=\"227,-83.5 227,-129.5 \" stroke=\"black\"/>\n",
        "<text font-family=\"Times,serif\" font-size=\"14.00\" text-anchor=\"middle\" x=\"268.5\" y=\"-114.3\">(None, 128)</text>\n",
        "<polyline fill=\"none\" points=\"227,-106.5 310,-106.5 \" stroke=\"black\"/>\n",
        "<text font-family=\"Times,serif\" font-size=\"14.00\" text-anchor=\"middle\" x=\"268.5\" y=\"-91.3\">(None, 66)</text>\n",
        "</g>\n",
        "<!-- 139759917533008&#45;&gt;139759917528720 -->\n",
        "<g class=\"edge\" id=\"edge11\"><title>139759917533008-&gt;139759917528720</title>\n",
        "<path d=\"M190,-166.366C190,-158.152 190,-148.658 190,-139.725\" fill=\"none\" stroke=\"black\"/>\n",
        "<polygon fill=\"black\" points=\"193.5,-139.607 190,-129.607 186.5,-139.607 193.5,-139.607\" stroke=\"black\"/>\n",
        "</g>\n",
        "<!-- 139759917527568 -->\n",
        "<g class=\"node\" id=\"node13\"><title>139759917527568</title>\n",
        "<polygon fill=\"none\" points=\"50.5,-0.5 50.5,-46.5 329.5,-46.5 329.5,-0.5 50.5,-0.5\" stroke=\"black\"/>\n",
        "<text font-family=\"Times,serif\" font-size=\"14.00\" text-anchor=\"middle\" x=\"124.5\" y=\"-19.8\">activation_4: Activation</text>\n",
        "<polyline fill=\"none\" points=\"198.5,-0.5 198.5,-46.5 \" stroke=\"black\"/>\n",
        "<text font-family=\"Times,serif\" font-size=\"14.00\" text-anchor=\"middle\" x=\"226\" y=\"-31.3\">input:</text>\n",
        "<polyline fill=\"none\" points=\"198.5,-23.5 253.5,-23.5 \" stroke=\"black\"/>\n",
        "<text font-family=\"Times,serif\" font-size=\"14.00\" text-anchor=\"middle\" x=\"226\" y=\"-8.3\">output:</text>\n",
        "<polyline fill=\"none\" points=\"253.5,-0.5 253.5,-46.5 \" stroke=\"black\"/>\n",
        "<text font-family=\"Times,serif\" font-size=\"14.00\" text-anchor=\"middle\" x=\"291.5\" y=\"-31.3\">(None, 66)</text>\n",
        "<polyline fill=\"none\" points=\"253.5,-23.5 329.5,-23.5 \" stroke=\"black\"/>\n",
        "<text font-family=\"Times,serif\" font-size=\"14.00\" text-anchor=\"middle\" x=\"291.5\" y=\"-8.3\">(None, 66)</text>\n",
        "</g>\n",
        "<!-- 139759917528720&#45;&gt;139759917527568 -->\n",
        "<g class=\"edge\" id=\"edge12\"><title>139759917528720-&gt;139759917527568</title>\n",
        "<path d=\"M190,-83.3664C190,-75.1516 190,-65.6579 190,-56.7252\" fill=\"none\" stroke=\"black\"/>\n",
        "<polygon fill=\"black\" points=\"193.5,-56.6068 190,-46.6068 186.5,-56.6069 193.5,-56.6068\" stroke=\"black\"/>\n",
        "</g>\n",
        "</g>\n",
        "</svg>"
       ],
       "text": [
        "<IPython.core.display.SVG at 0x7f1c65cfec50>"
       ]
      }
     ],
     "prompt_number": 18
    },
    {
     "cell_type": "code",
     "collapsed": false,
     "input": [
      "%%time\n",
      "\n",
      "epochs = 3\n",
      "\n",
      "history = model.fit(x_train, \n",
      "                    y_train, \n",
      "                    epochs=epochs, \n",
      "                    batch_size=128,\n",
      "                    verbose=2)"
     ],
     "language": "python",
     "metadata": {},
     "outputs": [],
     "prompt_number": 20
    },
    {
     "cell_type": "code",
     "collapsed": false,
     "input": [
      "scores = model.evaluate(x_train, y_train)\n",
      "print(\"\\n%s: %.2f%%\" % (model.metrics_names[1], scores[1]*100))"
     ],
     "language": "python",
     "metadata": {},
     "outputs": [],
     "prompt_number": 21
    },
    {
     "cell_type": "code",
     "collapsed": false,
     "input": [
      "predictions = model.predict(x_test)"
     ],
     "language": "python",
     "metadata": {},
     "outputs": [],
     "prompt_number": 22
    },
    {
     "cell_type": "code",
     "collapsed": false,
     "input": [
      "print(\"\\n%s:\" % (model.metrics_names[1]))\n",
      "print(100 * predictions)"
     ],
     "language": "python",
     "metadata": {},
     "outputs": [],
     "prompt_number": 23
    },
    {
     "cell_type": "code",
     "collapsed": false,
     "input": [
      "predictions[5].max()"
     ],
     "language": "python",
     "metadata": {},
     "outputs": [
      {
       "metadata": {},
       "output_type": "pyout",
       "prompt_number": 24,
       "text": [
        "0.37574685"
       ]
      }
     ],
     "prompt_number": 24
    },
    {
     "cell_type": "code",
     "collapsed": false,
     "input": [
      "predicted_char=encoder.inverse_transform(predictions)\n",
      "predicted_char[5]"
     ],
     "language": "python",
     "metadata": {},
     "outputs": [
      {
       "metadata": {},
       "output_type": "pyout",
       "prompt_number": 25,
       "text": [
        "'1'"
       ]
      }
     ],
     "prompt_number": 25
    },
    {
     "cell_type": "code",
     "collapsed": false,
     "input": [
      "pred=np.savetxt('/home/ahmed/internship/cnn_ocr/prediciton_cnn_3_epochs.csv',predictions,delimiter=\",\")"
     ],
     "language": "python",
     "metadata": {},
     "outputs": [],
     "prompt_number": 26
    },
    {
     "cell_type": "code",
     "collapsed": false,
     "input": [
      "scores2 = model.evaluate(x_test, y_test)\n",
      "print(\"\\n%s: %.2f%%\" % (model.metrics_names[1], scores2[1]*100))\n",
      "scores2"
     ],
     "language": "python",
     "metadata": {},
     "outputs": [
      {
       "metadata": {},
       "output_type": "pyout",
       "prompt_number": 27,
       "text": [
        "[2.1962576094872315, 0.49316939858139536]"
       ]
      }
     ],
     "prompt_number": 27
    },
    {
     "cell_type": "code",
     "collapsed": false,
     "input": [
      "%matplotlib inline\n",
      "import matplotlib.pyplot as plt\n",
      "plt.hist(predictions[5],bins=10)\n",
      "plt.show()"
     ],
     "language": "python",
     "metadata": {},
     "outputs": [
      {
       "metadata": {},
       "output_type": "display_data",
       "png": "[encoded data removed]",
       "text": [
        "<matplotlib.figure.Figure at 0x7f1c644583d0>"
       ]
      }
     ],
     "prompt_number": 28
    },
    {
     "cell_type": "code",
     "collapsed": false,
     "input": [
      "%matplotlib inline\n",
      "import matplotlib.pyplot as plt\n",
      "plt.hist(predictions.max(axis=1),bins=100)\n",
      "plt.show()"
     ],
     "language": "python",
     "metadata": {},
     "outputs": [
      {
       "metadata": {},
       "output_type": "display_data",
       "png": "[encoded data removed]",
       "text": [
        "<matplotlib.figure.Figure at 0x7f1c64551fd0>"
       ]
      }
     ],
     "prompt_number": 29
    },
    {
     "cell_type": "code",
     "collapsed": false,
     "input": [
      "scores2 = model.evaluate(x_test, y_test)\n",
      "print(\"\\n%s: %.2f%%\" % (model.metrics_names[1], scores2[1]*100))\n",
      "scores2"
     ],
     "language": "python",
     "metadata": {},
     "outputs": [
      {
       "metadata": {},
       "output_type": "pyout",
       "prompt_number": 30,
       "text": [
        "[2.1962576094872315, 0.49316939858139536]"
       ]
      }
     ],
     "prompt_number": 30
    },
    {
     "cell_type": "code",
     "collapsed": false,
     "input": [
      "from keras.models import model_from_yaml\n",
      "import h5py\n",
      "model_yaml = model.to_yaml()\n",
      "with open(\"/home/ahmed/internship/cnn_ocr/model_cnn_3_epochs.yaml\", \"w\") as yaml_file:\n",
      "    yaml_file.write(model_yaml)\n",
      "# serialize weights to HDF5\n",
      "model.save_weights(\"/home/ahmed/internship/cnn_ocr/model_cnn_3_epochs.h5\")\n",
      "print(\"Saved model to disk\")"
     ],
     "language": "python",
     "metadata": {},
     "outputs": [],
     "prompt_number": 31
    },
    {
     "cell_type": "code",
     "collapsed": false,
     "input": [
      "predicted_char=encoder.inverse_transform(predictions)"
     ],
     "language": "python",
     "metadata": {},
     "outputs": [],
     "prompt_number": 32
    },
    {
     "cell_type": "code",
     "collapsed": false,
     "input": [
      "count=0\n",
      "index= []\n",
      "predicted=[]\n",
      "true=[]\n",
      "png_name=[]\n",
      "for i in range(len(predicted_char)):\n",
      "        #print(i)\n",
      "        index.append(i)\n",
      "        predicted.append(predicted_char[i])\n",
      "        true.append(y_test_reconstructed[i])\n",
      "        png_name.append(name_images_test[i])\n",
      "        count += 1\n"
     ],
     "language": "python",
     "metadata": {},
     "outputs": [],
     "prompt_number": 33
    },
    {
     "cell_type": "code",
     "collapsed": false,
     "input": [
      "import pandas as pd\n",
      "true_predicted_label = pd.DataFrame({'index_example': index, 'predicted_label': predicted, 'true_label' : true,'image':png_name})\n",
      "true_predicted_label .to_csv('/home/ahmed/internship/cnn_ocr/all_results_cnn_3_epochs.csv')     "
     ],
     "language": "python",
     "metadata": {},
     "outputs": [],
     "prompt_number": 34
    },
    {
     "cell_type": "code",
     "collapsed": false,
     "input": [
      "plt.figure(figsize=(5,3))\n",
      "plt.plot(history.epoch,history.history['loss'])\n",
      "plt.title('loss')\n",
      "\n",
      "plt.figure(figsize=(5,3))\n",
      "plt.plot(history.epoch,history.history['acc'])\n",
      "plt.title('accuracy');"
     ],
     "language": "python",
     "metadata": {},
     "outputs": [],
     "prompt_number": 35
    },
    {
     "cell_type": "code",
     "collapsed": false,
     "input": [
      "\n",
      "\n",
      "%%time\n",
      "scores = model.evaluate(x_test, y_test, verbose=2)\n",
      "print(\"%s: %.2f%%\" % (model.metrics_names[1], scores[1]*100))\n",
      "\n"
     ],
     "language": "python",
     "metadata": {},
     "outputs": [],
     "prompt_number": 36
    },
    {
     "cell_type": "code",
     "collapsed": false,
     "input": [
      "def show_failures(predictions, trueclass=None, predictedclass=None, maxtoshow=10):\n",
      "    rounded = np.argmax(predictions, axis=1)\n",
      "    #errors = rounded!=y_test\n",
      "    errors = [x!=y for x, y in zip(rounded, y_test)]\n",
      "    print('Showing max', maxtoshow, 'first failures. '\n",
      "          'The predicted class is shown first and the correct class in parenthesis.')\n",
      "    ii = 0\n",
      "    plt.figure(figsize=(maxtoshow, 1))\n",
      "    for i in range(x_test.shape[0]):\n",
      "        if ii>=maxtoshow:\n",
      "            break\n",
      "        print(errors)\n",
      "        if errors[i]:\n",
      "            if trueclass is not None and y_test[i] != trueclass:\n",
      "                continue\n",
      "            if predictedclass is not None and predictions[i] != predictedclass:\n",
      "                continue\n",
      "            plt.subplot(1, maxtoshow, ii+1)\n",
      "            plt.axis('off')\n",
      "            if K.image_dim_ordering() == 'th':\n",
      "                plt.imshow(x_test[i,0,:,:], cmap=\"gray\")\n",
      "            else:\n",
      "                plt.imshow(x_test[i,:,:,0], cmap=\"gray\")\n",
      "            plt.title(\"%d (%d)\" % (rounded[i], y_test[i]))\n",
      "            ii = ii + 1"
     ],
     "language": "python",
     "metadata": {},
     "outputs": [],
     "prompt_number": 37
    },
    {
     "cell_type": "code",
     "collapsed": false,
     "input": [
      "predictions = model.predict(x_test)\n",
      "\n"
     ],
     "language": "python",
     "metadata": {},
     "outputs": [],
     "prompt_number": 38
    },
    {
     "cell_type": "code",
     "collapsed": false,
     "input": [
      "show_failures(predictions)\n",
      "#predictions"
     ],
     "language": "python",
     "metadata": {},
     "outputs": [],
     "prompt_number": 39
    },
    {
     "cell_type": "code",
     "collapsed": false,
     "input": [
      "predicted_char=encoder.inverse_transform(predictions)\n",
      "predicted_char.shape"
     ],
     "language": "python",
     "metadata": {},
     "outputs": [
      {
       "metadata": {},
       "output_type": "pyout",
       "prompt_number": 40,
       "text": [
        "(732,)"
       ]
      }
     ],
     "prompt_number": 40
    },
    {
     "cell_type": "code",
     "collapsed": false,
     "input": [
      "y_test_reconstructed\n",
      "y_test_reconstructed.shape"
     ],
     "language": "python",
     "metadata": {},
     "outputs": [
      {
       "metadata": {},
       "output_type": "pyout",
       "prompt_number": 41,
       "text": [
        "(732,)"
       ]
      }
     ],
     "prompt_number": 41
    },
    {
     "cell_type": "code",
     "collapsed": false,
     "input": [
      "count=0\n",
      "for i in range(len(predictions)):\n",
      "    if (predicted_char[i] != y_test_reconstructed[i]):\n",
      "        print(i)\n",
      "        count += 1\n",
      "print(\"the number of false according to abby\", count)    \n",
      "print(\"number of test examples\", len(y_test_reconstructed))"
     ],
     "language": "python",
     "metadata": {},
     "outputs": [],
     "prompt_number": 42
    },
    {
     "cell_type": "code",
     "collapsed": false,
     "input": [],
     "language": "python",
     "metadata": {},
     "outputs": []
    }
   ],
   "metadata": {}
  }
 ]
}