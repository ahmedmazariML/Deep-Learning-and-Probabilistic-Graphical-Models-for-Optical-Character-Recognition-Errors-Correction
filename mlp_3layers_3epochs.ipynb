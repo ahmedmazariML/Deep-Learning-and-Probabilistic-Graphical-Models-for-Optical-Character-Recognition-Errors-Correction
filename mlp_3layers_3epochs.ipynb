{
 "metadata": {
  "name": "",
  "signature": "sha256:018189539331e26f0c51636f986951e805c35f93059252da271bbc8b4c7fb250"
 },
 "nbformat": 3,
 "nbformat_minor": 0,
 "worksheets": [
  {
   "cells": [
    {
     "cell_type": "code",
     "collapsed": false,
     "input": [
      "from __future__ import print_function\n",
      "from keras.models import Sequential\n",
      "from keras.layers import Dense\n",
      "import keras\n",
      "import numpy as np\n"
     ],
     "language": "python",
     "metadata": {},
     "outputs": [],
     "prompt_number": 27
    },
    {
     "cell_type": "code",
     "collapsed": false,
     "input": [
      "images_names=np.genfromtxt(\"/home/ahmed/internship/cnn_ocr/images_names.csv\",dtype=np.str,delimiter='\\t')"
     ],
     "language": "python",
     "metadata": {},
     "outputs": [],
     "prompt_number": 28
    },
    {
     "cell_type": "code",
     "collapsed": false,
     "input": [
      "# fix random seed for reproducibility\n",
      "np.random.seed(7)\n",
      "batch_size = 128\n",
      "num_classes = 66\n",
      "epochs = 12\n",
      "\n",
      "# input image dimensions\n",
      "img_rows, img_cols = 32, 32\n",
      "\n",
      "# the data, shuffled and split between train and test sets\n",
      "#(x_train, y_train), (x_test, y_test) = mnist.load_data()\n",
      "\n",
      "data_pixels=np.genfromtxt(\"/home/ahmed/internship/cnn_ocr/pixels_dataset.csv\", delimiter=',')\n",
      "classes_dataset2=np.genfromtxt(\"/home/ahmed/internship/cnn_ocr/labels.csv\",dtype=np.str , delimiter='\\t')\n",
      "data_pixels.shape\n",
      "\n",
      "# load pima indians dataset"
     ],
     "language": "python",
     "metadata": {},
     "outputs": [
      {
       "metadata": {},
       "output_type": "pyout",
       "prompt_number": 29,
       "text": [
        "(2440, 3072)"
       ]
      }
     ],
     "prompt_number": 29
    },
    {
     "cell_type": "code",
     "collapsed": false,
     "input": [
      "#import sys\n",
      "#reload(sys)\n",
      "#sys.setdefaultencoding(\"utf-8\")\n",
      "from collections import Counter\n",
      "import numpy as np\n",
      "import matplotlib.pyplot as plt\n",
      "\n",
      "\n",
      "labels, values = zip(*Counter(classes_dataset2).items())\n",
      "print(\"labels \", labels)\n",
      "print(\"lvalues\", values)"
     ],
     "language": "python",
     "metadata": {},
     "outputs": [],
     "prompt_number": 30
    },
    {
     "cell_type": "code",
     "collapsed": false,
     "input": [
      "%pylab inline\n",
      "pylab.rcParams['figure.figsize'] = (30, 10)\n",
      "indexes = np.arange(len(labels))\n",
      "width = 0.5\n",
      "\n",
      "plt.bar(indexes, values, width)\n",
      "plt.xticks(indexes + width * 0.5, labels)\n",
      "#plt.figure(figsize=(5000,5000))\n",
      "plt.show()"
     ],
     "language": "python",
     "metadata": {},
     "outputs": [
      {
       "metadata": {},
       "output_type": "display_data",
       "png": "[encoded data removed]",
       "text": [
        "<matplotlib.figure.Figure at 0x7fcc16dd30d0>"
       ]
      }
     ],
     "prompt_number": 31
    },
    {
     "cell_type": "code",
     "collapsed": false,
     "input": [
      "\n",
      "from sklearn.preprocessing import LabelBinarizer\n",
      "encoder=LabelBinarizer()\n",
      "classes_dataset = encoder.fit_transform(classes_dataset2)"
     ],
     "language": "python",
     "metadata": {},
     "outputs": [],
     "prompt_number": 32
    },
    {
     "cell_type": "code",
     "collapsed": false,
     "input": [
      "def shuffle_data(x,y,z):\n",
      "    idx = np.random.permutation(len(x))\n",
      "    x_data,y_labels,name_img = x[idx], y[idx], z[idx]\n",
      "    return x_data,y_labels, name_img"
     ],
     "language": "python",
     "metadata": {},
     "outputs": [],
     "prompt_number": 33
    },
    {
     "cell_type": "code",
     "collapsed": false,
     "input": [
      "data,labels,name_img=shuffle_data(data_pixels,classes_dataset,images_names)"
     ],
     "language": "python",
     "metadata": {},
     "outputs": [],
     "prompt_number": 34
    },
    {
     "cell_type": "code",
     "collapsed": false,
     "input": [
      "from sklearn.cross_validation import train_test_split\n",
      "x_train, x_test, y_train, y_test, name_images_train, name_images_test=train_test_split(data,labels, name_img, \n",
      "                                                     test_size=0.3, \n",
      "                                                     random_state=42)\n",
      "print(x_train.shape)\n",
      "print(x_test.shape)\n",
      "print(y_train.shape)\n",
      "print(y_test.shape)\n",
      "print(name_images_train.shape)\n",
      "print(name_images_test.shape)\n",
      "\n",
      "print(name_images_test[0:10])"
     ],
     "language": "python",
     "metadata": {},
     "outputs": [],
     "prompt_number": 35
    },
    {
     "cell_type": "code",
     "collapsed": false,
     "input": [
      "y_test_reconstructed=encoder.inverse_transform(y_test)\n",
      "y_train_reconstructed=encoder.inverse_transform(y_train)"
     ],
     "language": "python",
     "metadata": {},
     "outputs": [],
     "prompt_number": 12
    },
    {
     "cell_type": "code",
     "collapsed": false,
     "input": [
      "model = Sequential()\n",
      "model.add(Dense(300, input_dim=3072, activation='relu'))\n",
      "model.add(Dense(75, activation='relu'))\n",
      "model.add(Dense(66, activation='softmax'))"
     ],
     "language": "python",
     "metadata": {},
     "outputs": [],
     "prompt_number": 13
    },
    {
     "cell_type": "code",
     "collapsed": false,
     "input": [
      "model.compile(loss='categorical_crossentropy', optimizer='adam', metrics=['accuracy'])"
     ],
     "language": "python",
     "metadata": {},
     "outputs": [],
     "prompt_number": 14
    },
    {
     "cell_type": "code",
     "collapsed": false,
     "input": [
      "model.fit(x_train,y_train, epochs=3, batch_size=128)"
     ],
     "language": "python",
     "metadata": {},
     "outputs": [
      {
       "metadata": {},
       "output_type": "pyout",
       "prompt_number": 15,
       "text": [
        "<keras.callbacks.History at 0x7f014a77a0d0>"
       ]
      }
     ],
     "prompt_number": 15
    },
    {
     "cell_type": "code",
     "collapsed": false,
     "input": [
      "scores = model.evaluate(x_train, y_train)\n",
      "print(\"\\n%s: %.2f%%\" % (model.metrics_names[1], scores[1]*100))"
     ],
     "language": "python",
     "metadata": {},
     "outputs": [],
     "prompt_number": 16
    },
    {
     "cell_type": "code",
     "collapsed": false,
     "input": [
      "scores2 = model.evaluate(x_test, y_test)\n",
      "print(\"\\n%s: %.2f%%\" % (model.metrics_names[1], scores2[1]*100))\n",
      "scores2"
     ],
     "language": "python",
     "metadata": {},
     "outputs": [
      {
       "metadata": {},
       "output_type": "pyout",
       "prompt_number": 17,
       "text": [
        "[1.5818935639219858, 0.6857923500524844]"
       ]
      }
     ],
     "prompt_number": 17
    },
    {
     "cell_type": "code",
     "collapsed": false,
     "input": [
      "predictions = model.predict(x_test)"
     ],
     "language": "python",
     "metadata": {},
     "outputs": [],
     "prompt_number": 18
    },
    {
     "cell_type": "code",
     "collapsed": false,
     "input": [
      "print(\"\\n%s:\" % (model.metrics_names[1]))\n",
      "print(100 * predictions)"
     ],
     "language": "python",
     "metadata": {},
     "outputs": [],
     "prompt_number": 19
    },
    {
     "cell_type": "code",
     "collapsed": false,
     "input": [
      "%matplotlib inline\n",
      "import matplotlib.pyplot as plt\n",
      "plt.hist(predictions.max(axis=1),bins=100)\n",
      "plt.show()"
     ],
     "language": "python",
     "metadata": {},
     "outputs": [
      {
       "metadata": {},
       "output_type": "display_data",
       "png": "[encoded data removed]",
       "text": [
        "<matplotlib.figure.Figure at 0x7f0163163e90>"
       ]
      }
     ],
     "prompt_number": 20
    },
    {
     "cell_type": "code",
     "collapsed": false,
     "input": [
      "%matplotlib inline\n",
      "import matplotlib.pyplot as plt\n",
      "plt.hist(predictions[5],bins=10)\n",
      "plt.show()"
     ],
     "language": "python",
     "metadata": {},
     "outputs": [
      {
       "metadata": {},
       "output_type": "display_data",
       "png": "[encoded data removed]",
       "text": [
        "<matplotlib.figure.Figure at 0x7f0163163910>"
       ]
      }
     ],
     "prompt_number": 21
    },
    {
     "cell_type": "code",
     "collapsed": false,
     "input": [
      "pred=np.savetxt('/home/ahmed/internship/cnn_ocr/prediciton_mlp3layers_3epochs.csv',predictions,delimiter=\",\")"
     ],
     "language": "python",
     "metadata": {},
     "outputs": [],
     "prompt_number": 22
    },
    {
     "cell_type": "code",
     "collapsed": false,
     "input": [
      "from keras.models import model_from_yaml\n",
      "import h5py\n",
      "model_yaml = model.to_yaml()\n",
      "with open(\"/home/ahmed/internship/cnn_ocr/model_mlp3layers_3epochs.yaml\", \"w\") as yaml_file:\n",
      "    yaml_file.write(model_yaml)\n",
      "# serialize weights to HDF5\n",
      "model.save_weights(\"/home/ahmed/internship/cnn_ocr/model_mlp3layers_3epochs.h5\")\n",
      "print(\"Saved model to disk\")"
     ],
     "language": "python",
     "metadata": {},
     "outputs": [],
     "prompt_number": 23
    },
    {
     "cell_type": "code",
     "collapsed": false,
     "input": [
      "predicted_char=encoder.inverse_transform(predictions)"
     ],
     "language": "python",
     "metadata": {},
     "outputs": [],
     "prompt_number": 24
    },
    {
     "cell_type": "code",
     "collapsed": false,
     "input": [
      "predicted_char[5]"
     ],
     "language": "python",
     "metadata": {},
     "outputs": [
      {
       "metadata": {},
       "output_type": "pyout",
       "prompt_number": 25,
       "text": [
        "'1'"
       ]
      }
     ],
     "prompt_number": 25
    },
    {
     "cell_type": "code",
     "collapsed": false,
     "input": [
      "count=0\n",
      "index= []\n",
      "predicted=[]\n",
      "true=[]\n",
      "png_name=[]\n",
      "for i in range(len(predicted_char)):\n",
      "        #print(i)\n",
      "        index.append(i)\n",
      "        predicted.append(predicted_char[i])\n",
      "        true.append(y_test_reconstructed[i])\n",
      "        png_name.append(name_images_test[i])\n",
      "        count += 1\n",
      "        "
     ],
     "language": "python",
     "metadata": {},
     "outputs": [],
     "prompt_number": 26
    },
    {
     "cell_type": "code",
     "collapsed": false,
     "input": [
      "import pandas as pd\n",
      "true_predicted_label = pd.DataFrame({'index_example': index, 'predicted_label': predicted, 'true_label' : true,'image':png_name})\n",
      "true_predicted_label .to_csv('/home/ahmed/internship/cnn_ocr/all_results_mlp3layers_3epcohs.csv')"
     ],
     "language": "python",
     "metadata": {},
     "outputs": [],
     "prompt_number": 27
    }
   ],
   "metadata": {}
  }
 ]
}